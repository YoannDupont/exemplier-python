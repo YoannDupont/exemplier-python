{
 "cells": [
  {
   "cell_type": "markdown",
   "id": "a4c705b1",
   "metadata": {
    "slideshow": {
     "slide_type": "slide"
    }
   },
   "source": [
    "# Exemplier python\n",
    "\n",
    "## Chaînes de caractères\n",
    "\n",
    "### Notes\n",
    "\n",
    "- Les valeurs affichées par `print` peuvent également se stocker dans une variable\n",
    "- Pour entrer dans une cellule de code, on appuie sur entrée ou on double-clic dessus.\n",
    "- Pour exécuter une cellule de code, appuyer sur shift+entrée.\n",
    "- Pour passer à la slide suivante, utiliser la touche espace.\n",
    "- Pour passer à la slide précédente, appuyer sur shift+espace."
   ]
  }
 ],
 "metadata": {
  "celltoolbar": "Diaporama",
  "kernelspec": {
   "display_name": "Python 3 (ipykernel)",
   "language": "python",
   "name": "python3"
  },
  "language_info": {
   "codemirror_mode": {
    "name": "ipython",
    "version": 3
   },
   "file_extension": ".py",
   "mimetype": "text/x-python",
   "name": "python",
   "nbconvert_exporter": "python",
   "pygments_lexer": "ipython3",
   "version": "3.10.6"
  },
  "livereveal": {
   "autolaunch": true,
   "scroll": true,
   "transition": "none"
  }
 },
 "nbformat": 4,
 "nbformat_minor": 5
}
