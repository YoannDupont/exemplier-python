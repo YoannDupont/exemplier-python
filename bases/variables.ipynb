{
 "cells": [
  {
   "cell_type": "markdown",
   "id": "a4c705b1",
   "metadata": {
    "slideshow": {
     "slide_type": "slide"
    }
   },
   "source": [
    "# Exemplier python\n",
    "\n",
    "## Structure conditonnelle : variables\n",
    "\n",
    "### Notes\n",
    "\n",
    "- Les valeurs affichées par `print` peuvent également se stocker dans une variable\n",
    "- Pour entrer dans une cellule de code, on appuie sur entrée ou on double-clic dessus.\n",
    "- Pour exécuter une cellule de code, appuyer sur shift+entrée.\n",
    "- Pour passer à la slide suivante, utiliser la touche espace.\n",
    "- Pour passer à la slide précédente, appuyer sur shift+espace."
   ]
  },
  {
   "cell_type": "markdown",
   "id": "395c1ad5",
   "metadata": {
    "slideshow": {
     "slide_type": "slide"
    }
   },
   "source": [
    "# Les bases"
   ]
  },
  {
   "cell_type": "markdown",
   "id": "07a81139",
   "metadata": {
    "slideshow": {
     "slide_type": "-"
    }
   },
   "source": [
    "Une variable, au sens informatique, c’est a minima :\n",
    "- un identifiant (son nom)\n",
    "- une valeur (sa... valeur )"
   ]
  },
  {
   "cell_type": "markdown",
   "id": "99a7b7bb",
   "metadata": {
    "slideshow": {
     "slide_type": "fragment"
    }
   },
   "source": [
    "En Python, les variables ont également les propriétés suivantes :\n",
    "- un type (la nature de la valeur)\n",
    "- elles sont modifiables (leur valeur est... variable)"
   ]
  },
  {
   "cell_type": "code",
   "execution_count": null,
   "id": "569e1a4e",
   "metadata": {
    "slideshow": {
     "slide_type": "slide"
    }
   },
   "outputs": [],
   "source": [
    "largeur = 4\n",
    "couleur = \"purple\""
   ]
  },
  {
   "cell_type": "markdown",
   "id": "60737ce5",
   "metadata": {
    "slideshow": {
     "slide_type": "-"
    }
   },
   "source": [
    "Ici, on a déclaré deux variables :\n",
    "- la variable _largeur_, de type entier et de valeur 4\n",
    "- la variable _couleur_, de type chaîne de caractères et de valeur \"purple\""
   ]
  },
  {
   "cell_type": "code",
   "execution_count": null,
   "id": "9d642d19",
   "metadata": {
    "slideshow": {
     "slide_type": "-"
    }
   },
   "outputs": [],
   "source": [
    "print(\"la variable largeur a pour type :\", type(largeur), \"et pour valeur :\", largeur)\n",
    "print(\"la variable couleur a pour  type :\", type(couleur), \"et pour valeur :\", couleur)"
   ]
  },
  {
   "cell_type": "markdown",
   "id": "ebe88963",
   "metadata": {
    "slideshow": {
     "slide_type": "slide"
    }
   },
   "source": [
    "Une variable, c'est simplement une valeur dont on décide de se souvenir. Le nom permet d'accéder à sa valeur, qui est la chose vraiment intéressante.\n",
    "\n",
    "Pour s'en convaincre, observons si on a bien les mêmes résultats en utilisant des variables ou des valeurs \"brutes\" :"
   ]
  },
  {
   "cell_type": "code",
   "execution_count": null,
   "id": "ae6e6885",
   "metadata": {},
   "outputs": [],
   "source": [
    "mot = \"beau\"\n",
    "texte = \"il fait beau et chaud\"\n",
    "\n",
    "print(\"beau\" in \"il fait beau et chaud\")\n",
    "print(\"beau\" in texte)\n",
    "print(mot in \"il fait beau et chaud\")\n",
    "print(mot in texte)"
   ]
  },
  {
   "cell_type": "markdown",
   "id": "f5bf9957",
   "metadata": {
    "slideshow": {
     "slide_type": "slide"
    }
   },
   "source": [
    "Convaincu·e ?\n",
    "\n",
    "S'il fallait verser dans les analogies, voici des \"variables\" qu'on utilise dans notre vie de tous les jours ou universitaire :\n",
    "- `chez moi` : désigne votre adresse, mais si vous déménagez, \"chez moi\" désignera un autre endroit\n",
    "- `l'heure` : désigne l'heure qu'il est. Pour simplifier, on obtient la même heure toutes les 24 heures.\n",
    "- `la salle de cours` : la salle où vous suivez un cours, qui peut changer à chaque cours (on peut avoir plusieurs cours dans la même salle).\n",
    "- `le cours` : le cours que vous suivez, qui a priori change régulièrement dans la journée. On peut avoir plusieurs fois le même cours dans la journée.\n",
    "- `l'exercice` : l'exercice que vous faites, qui change plusieurs fois par séance.\n",
    "\n",
    "\n",
    "**Analogie linguistique** : en termes de linguistique, on peu dire que le nom d'une variable est le signifiant et sa valeur est le signifié."
   ]
  },
  {
   "cell_type": "markdown",
   "id": "531ab697",
   "metadata": {
    "slideshow": {
     "slide_type": "slide"
    }
   },
   "source": [
    "# Utilité des variables"
   ]
  },
  {
   "cell_type": "markdown",
   "id": "2f03dae5",
   "metadata": {
    "slideshow": {
     "slide_type": "-"
    }
   },
   "source": [
    "Comme on l'a dit, une variable permet de garder des choses en mémoire. Cette mémoire est la base pour créer du code qui suit un raisonnement.\n",
    "\n",
    "Prenons les noms communs de \"la classe\" les plus utilisés selon le [Wiktionnaire](https://fr.wiktionary.org/wiki/Wiktionnaire:Liste_de_1750_mots_fran%C3%A7ais_les_plus_courants) (basé sur des recherches de l'académie d'Amiens) :"
   ]
  },
  {
   "cell_type": "code",
   "execution_count": null,
   "id": "318c8880",
   "metadata": {},
   "outputs": [],
   "source": [
    "mes_mots = [\"angle\", \"armoire\", \"banc\", \"bureau\", \"cabinet\", \"carreau\", \"chaise\", \"classe\", \"clé\", \"coin\", \"couloir\", \"dossier\", \"eau\", \"école\", \"écriture\", \"entrée\", \"escalier\", \"étagère\", \"étude\", \"extérieur\", \"fenêtre\", \"intérieur\", \"lavabo\", \"lecture\", \"lit\", \"marche\", \"matelas\", \"maternelle\", \"meuble\", \"mousse\", \"mur\", \"peluche\", \"placard\", \"plafond\", \"porte\", \"portemanteau\", \"poubelle\", \"radiateur\", \"rampe\", \"récréation\", \"rentrée\", \"rideau\", \"robinet\", \"salle\", \"savon\", \"serrure\", \"serviette\", \"siège\", \"sieste\", \"silence\", \"sol\", \"sommeil\", \"sonnette\", \"sortie\", \"table\", \"tableau\", \"tabouret\", \"tapis\", \"tiroir\", \"toilette\", \"vitre\", \"w.-c.\"]"
   ]
  },
  {
   "cell_type": "markdown",
   "id": "f41fcebe",
   "metadata": {
    "slideshow": {
     "slide_type": "slide"
    }
   },
   "source": [
    "La question maintenant est : combien de ces mots commencent par la lettre \"p\" ?\n",
    "\n",
    "Pour y répondre on va :\n",
    "- garder en mémoire le nombre de mots qui commencent par \"p\"\n",
    "- parcourir la liste `mes_mots` et augmenter ce nombre à chaque fois qu'on croise un mot qui commence par \"p\"."
   ]
  },
  {
   "cell_type": "markdown",
   "id": "85d35137",
   "metadata": {},
   "source": [
    "On doit donc savoir :\n",
    "- garder en mémoire le nombre de mots (implique une variable)\n",
    "- parcourir les mots de la liste un par un (on utilisera une `boucle for`)\n",
    "- savoir si un mot commence par quelque chose, à savoir \"p\" (on utilisera une fonction appelée `startswith`)"
   ]
  },
  {
   "cell_type": "markdown",
   "id": "14970ad9",
   "metadata": {
    "slideshow": {
     "slide_type": "slide"
    }
   },
   "source": [
    "Combien de ces mots commencent par la lettre \"p\" ?"
   ]
  },
  {
   "cell_type": "code",
   "execution_count": null,
   "id": "613e1ef5",
   "metadata": {
    "slideshow": {
     "slide_type": "-"
    }
   },
   "outputs": [],
   "source": [
    "# combien de mots commencent par notre lettre ? On démarre à zéro.\n",
    "# On garde un nom un peu générique car on pourrait vouloir changer de lettre.\n",
    "combien = 0\n",
    "\n",
    "# pour chaque mot (=> mon_mot_actuel) de ma liste de mots (=> mes_mots)\n",
    "# mon_mot_actuel est ici une variable qui va garder en mémoire chacun des mots un à un dans la boucle\n",
    "for mon_mot_actuel in mes_mots:\n",
    "    # le bloc de code suivant va se répéter autant de fois qu'il y a de mots dans `mes_mots`\n",
    "    # on distingue un bloc en python car il est sur-indenté\n",
    "\n",
    "    if mon_mot_actuel.startswith(\"p\"): # si notre mot commence par la lettre\n",
    "        combien += 1 # on a trouvé un mot supplémentaire, on augmente le compte\n",
    "\n",
    "# à ce moment là, la boucle est finie, on sait qu'on a fini de compter\n",
    "print(\"Il y a\", combien, \"mots qui terminent par p.\")"
   ]
  },
  {
   "cell_type": "markdown",
   "id": "0c6b85b8",
   "metadata": {
    "slideshow": {
     "slide_type": "slide"
    }
   },
   "source": [
    "## Déclaration, assignation"
   ]
  },
  {
   "cell_type": "markdown",
   "id": "13348e95",
   "metadata": {},
   "source": [
    "En python existe deux types de traitements qu'on peut faire sur une variable :\n",
    "- l' _assignation_ : c'est le fait de donner une _valeur_ à une variable\n",
    "- la _déclaration_ : c'est le fait de créer un _identifiant_ (nom de la variable) ainsi que certaines propriétés. C'est ce qui fait qu'une variable devient utilisable. Typiquement, en python, la propriété qu'on donne est une valeur (une déclaration demande donc une assignation), on parle aussi de _définition_."
   ]
  },
  {
   "cell_type": "markdown",
   "id": "547f831e",
   "metadata": {
    "slideshow": {
     "slide_type": "slide"
    }
   },
   "source": [
    "Le code suivant plante : on tente de récupérer la valeur d'une variable qui n'a pas été déclarée."
   ]
  },
  {
   "cell_type": "code",
   "execution_count": null,
   "id": "c47c7b5c",
   "metadata": {
    "slideshow": {
     "slide_type": "-"
    }
   },
   "outputs": [],
   "source": [
    "prefixe = 'pré'\n",
    "\n",
    "# Dans la ligne suivante, la variable \"suffixe\" n'a pas été déclarée : plantage.\n",
    "# Python donne alors une erreur de type \"NameError\", qui indique qu'on essaie\n",
    "mot = prefixe + suffixe"
   ]
  },
  {
   "cell_type": "markdown",
   "id": "278fb079",
   "metadata": {
    "slideshow": {
     "slide_type": "slide"
    }
   },
   "source": [
    "Pour corriger le code précédent, on doit déclarer la variable `suffixe` avant de s'en servir :"
   ]
  },
  {
   "cell_type": "code",
   "execution_count": null,
   "id": "c7751f6f",
   "metadata": {},
   "outputs": [],
   "source": [
    "prefixe = 'pré'\n",
    "suffixe = 'fixe'\n",
    "\n",
    "mot = prefixe + suffixe  # mot vaut donc \"préfixe\""
   ]
  },
  {
   "cell_type": "markdown",
   "id": "29b3ff96",
   "metadata": {
    "slideshow": {
     "slide_type": "slide"
    }
   },
   "source": [
    "On a vu précédemment qu'on pouvait donner une valeur à une variable. Il est également possible de donner des valeurs à plusieurs variables d'un seul coup :"
   ]
  },
  {
   "cell_type": "code",
   "execution_count": null,
   "id": "e38c53fd",
   "metadata": {},
   "outputs": [],
   "source": [
    "a, b = 1, 10  # a vaut 1 et b vaut 10\n",
    "\n",
    "# on récupère les valeurs de a et de b et on les assigne à c et d respectivement\n",
    "# donc, après cette ligne, c vaut 1 et d vaut 10\n",
    "c, d = a, b"
   ]
  },
  {
   "cell_type": "markdown",
   "id": "2c47dd53",
   "metadata": {
    "slideshow": {
     "slide_type": "slide"
    }
   },
   "source": [
    "Cela a plusieurs utilités, comme :"
   ]
  },
  {
   "cell_type": "code",
   "execution_count": null,
   "id": "a5c663ac",
   "metadata": {},
   "outputs": [],
   "source": [
    "a, b = 5, 25\n",
    "\n",
    "# on peut inverser les valeurs de deux variables de la façon suivante.\n",
    "# On donne à a et b les valeurs de b et a respectivement\n",
    "a, b = b, a\n",
    "\n",
    "# on peut également \"déplier\" une liste (type qui stocke plusieurs valeurs à la suite)\n",
    "# après cette ligne, b vaut 3 et a vaut 9\n",
    "b, a = [3, 9]"
   ]
  },
  {
   "cell_type": "markdown",
   "id": "ec866cf0",
   "metadata": {
    "slideshow": {
     "slide_type": "slide"
    }
   },
   "source": [
    "# Le nommage"
   ]
  },
  {
   "cell_type": "markdown",
   "id": "d470b13a",
   "metadata": {},
   "source": [
    "Un identifiant désigne une unique variable. Quelques règles et conventions sont\n",
    "données dans les [PEP 8](https://peps.python.org/pep-0008) et [PEP 3131](https://peps.python.org/pep-3131).\n",
    "- Uniquement des lettres, chiffres et underscores (`_`)\n",
    "- Ne peut pas commencer par un chiffre\n",
    "- Majuscules et minuscules considérées comme différentes (`l` vs `I`, `O` vs `0`)\n",
    "- Éviter les lettres accentuées ou autres alphabets (interdits dans certains cas)\n",
    "- Certains mots sont réservés à Python : les mots-clés : `False`, `True`, `None`, `and`, `as`, `assert`, `async`, `await`, `break`, `class`, `continue`, `def`, `del`, `elif`, `else`, `except`, `finally`, `for`, `from`, `global`, `if`, `import`, `in`, `is`, `lambda`, `nonlocal`, `not`, `or`, `pass`, `raise`, `return`, `try`, `while`, `with`, `yield`"
   ]
  },
  {
   "cell_type": "markdown",
   "id": "f6ed5daf",
   "metadata": {
    "slideshow": {
     "slide_type": "slide"
    }
   },
   "source": [
    "## Les bonnes pratiques de nommage"
   ]
  },
  {
   "cell_type": "markdown",
   "id": "f675008d",
   "metadata": {},
   "source": [
    "C'est nous qui décidons du nom d'une variable, il n'a pas vraiment d'importance en soi. Par analogie, c'est un peu comme votre prénom : on vous l'a donné à la naissance mais vous auriez très bien pu en avoir un autre et ça fonctionnerait tout pareil."
   ]
  },
  {
   "cell_type": "code",
   "execution_count": null,
   "id": "734b07f1",
   "metadata": {},
   "outputs": [],
   "source": [
    "mes_mots = [\"angle\", \"armoire\", \"banc\", \"bureau\", \"cabinet\", \"carreau\", \"chaise\", \"classe\", \"clé\", \"coin\", \"couloir\", \"dossier\", \"eau\", \"école\", \"écriture\", \"entrée\", \"escalier\", \"étagère\", \"étude\", \"extérieur\", \"fenêtre\", \"intérieur\", \"lavabo\", \"lecture\", \"lit\", \"marche\", \"matelas\", \"maternelle\", \"meuble\", \"mousse\", \"mur\", \"peluche\", \"placard\", \"plafond\", \"porte\", \"portemanteau\", \"poubelle\", \"radiateur\", \"rampe\", \"récréation\", \"rentrée\", \"rideau\", \"robinet\", \"salle\", \"savon\", \"serrure\", \"serviette\", \"siège\", \"sieste\", \"silence\", \"sol\", \"sommeil\", \"sonnette\", \"sortie\", \"table\", \"tableau\", \"tabouret\", \"tapis\", \"tiroir\", \"toilette\", \"vitre\", \"w.-c.\"]\n",
    "combien = 0\n",
    "for mon_mot_actuel in mes_mots:\n",
    "    if mon_mot_actuel.startswith(\"p\"):\n",
    "        combien += 1\n",
    "print(\"Il y a\", combien, \"mots qui terminent par p.\")"
   ]
  },
  {
   "cell_type": "markdown",
   "id": "d713844a",
   "metadata": {
    "slideshow": {
     "slide_type": "slide"
    }
   },
   "source": [
    "Souvenez-vous donc d'être sympa avec le vous du futur : le code suivant fait la même chose que celui d'avant, mais est-il plus ou moins compréhensible ?"
   ]
  },
  {
   "cell_type": "code",
   "execution_count": null,
   "id": "0b75d4cd",
   "metadata": {},
   "outputs": [],
   "source": [
    "lqkjzdO = [\"angle\", \"armoire\", \"banc\", \"bureau\", \"cabinet\", \"carreau\", \"chaise\", \"classe\", \"clé\", \"coin\", \"couloir\", \"dossier\", \"eau\", \"école\", \"écriture\", \"entrée\", \"escalier\", \"étagère\", \"étude\", \"extérieur\", \"fenêtre\", \"intérieur\", \"lavabo\", \"lecture\", \"lit\", \"marche\", \"matelas\", \"maternelle\", \"meuble\", \"mousse\", \"mur\", \"peluche\", \"placard\", \"plafond\", \"porte\", \"portemanteau\", \"poubelle\", \"radiateur\", \"rampe\", \"récréation\", \"rentrée\", \"rideau\", \"robinet\", \"salle\", \"savon\", \"serrure\", \"serviette\", \"siège\", \"sieste\", \"silence\", \"sol\", \"sommeil\", \"sonnette\", \"sortie\", \"table\", \"tableau\", \"tabouret\", \"tapis\", \"tiroir\", \"toilette\", \"vitre\", \"w.-c.\"]\n",
    "lqkjzd0 = 0\n",
    "for lqkizdO in lqkjzdO:\n",
    "    if lqkizdO.startswith(\"p\"):\n",
    "        lqkjzd0 += 1\n",
    "print(\"Il y a\", lqkjzd0, \"mots qui terminent par p.\")"
   ]
  },
  {
   "cell_type": "markdown",
   "id": "b2bca010",
   "metadata": {
    "slideshow": {
     "slide_type": "slide"
    }
   },
   "source": [
    "# Le typage"
   ]
  },
  {
   "cell_type": "markdown",
   "id": "356c5453",
   "metadata": {},
   "source": [
    "Le type indique la nature d’une valeur/variable. Il permet de savoir comment on\n",
    "manipule l’information indiquée.\n",
    "- int les entiers : `1` , `2` , `3`\n",
    "- float les nombres à virgule : `1.0` , `2.5` , `3.1415`\n",
    "- str les chaînes de caractère (string) : `\"Hello, world!\"`, `\"théâtre\"`, `\"2.5\"`\n",
    "- bool les booléens (faux/vrai) : `False`, `True`\n",
    "- list les listes (files, piles) : `[]`, `[1, 2, 3]`, `[\"premier\", \"deuxième\"]`"
   ]
  },
  {
   "cell_type": "markdown",
   "id": "827f55fd",
   "metadata": {
    "slideshow": {
     "slide_type": "slide"
    }
   },
   "source": [
    "# Le système de typage en Python\n",
    "\n",
    "- typage canard (duck typing) : on devine le type en lisant sa valeur\n",
    "- dynamique : le type d’une variable peut changer après sa déclaration\n",
    "- fort : on ne mélange pas les types n’importe comment"
   ]
  },
  {
   "cell_type": "markdown",
   "id": "cab6de09",
   "metadata": {
    "slideshow": {
     "slide_type": "slide"
    }
   },
   "source": [
    "# Fonctions utiles"
   ]
  },
  {
   "cell_type": "markdown",
   "id": "e07cf3f9",
   "metadata": {},
   "source": [
    "`type` pour connaître le type d’une valeur :"
   ]
  },
  {
   "cell_type": "code",
   "execution_count": null,
   "id": "08e7e93f",
   "metadata": {},
   "outputs": [],
   "source": [
    "compteur = \"1\"\n",
    "\n",
    "print(type(1))\n",
    "print(type(\"1\"))\n",
    "print(type(compteur))"
   ]
  },
  {
   "cell_type": "markdown",
   "id": "63f248ed",
   "metadata": {
    "slideshow": {
     "slide_type": "slide"
    }
   },
   "source": [
    "`str` et `repr` pour avoir une représentation graphique de la valeur :\n",
    "- str se veut lisible\n",
    "- repr se veut exacte (proche du code)"
   ]
  },
  {
   "cell_type": "code",
   "execution_count": null,
   "id": "f1f41a79",
   "metadata": {},
   "outputs": [],
   "source": [
    "print('str(\"1\") =>',str(\"1\"), '; repr(\"1\") =>', repr(\"1\"))\n",
    "print('str(1) =>', str(1), '; repr(1) =>', repr(1))"
   ]
  },
  {
   "cell_type": "markdown",
   "id": "ed850e9c",
   "metadata": {
    "slideshow": {
     "slide_type": "slide"
    }
   },
   "source": [
    "# S'aider avec les types : les indices de type (type hints)\n",
    "\n",
    "[Proposés par Guido Van Rossum pour analyser le code de Dropbox](https://www.youtube.com/watch?v=2wDvzy6Hgxg), les _type hints_ permettent d'ajouter des annotations à du code python (qui agissent comme des \"commentaires améliorés\"). Les indices :\n",
    "- aident les développeur·euses à rendre leur code plus clair et prévisible (et d'utiliser des outils d'analyse automatique)\n",
    "- **sont facultatifs** : vous pouvez utiliser ou non ces indices. Même si vous les utilisez, vous n'êtes pas obligé·es de les mettre partout\n",
    "- **ne sont pas contractuels** : ce sont simplement des indices que Python considère comme des commentaires (à moins de faire une erreur de syntaxe, ces indices ne peuvent pas causer d'erreur). Seuls des outils externes les prennent en compte. Par exemple, Thonny peut donner des avertissements si le code contient des annotations incohérentes."
   ]
  },
  {
   "cell_type": "markdown",
   "id": "841b1fd2",
   "metadata": {},
   "source": [
    "Quelques liens vers la documentation de Python à ce sujet :\n",
    "- [PEP 483](https://peps.python.org/pep-0483/)\n",
    "- [PEP 484](https://peps.python.org/pep-0484/)"
   ]
  },
  {
   "cell_type": "markdown",
   "id": "6707e926",
   "metadata": {
    "slideshow": {
     "slide_type": "slide"
    }
   },
   "source": [
    "## Exemples d'annotations de type\n",
    "\n",
    "On peut utiliser des annotations de type à l'aide des types définis plus tôt :"
   ]
  },
  {
   "cell_type": "code",
   "execution_count": null,
   "id": "fdd18642",
   "metadata": {},
   "outputs": [],
   "source": [
    "# une déclaration d'abord sans, puis avec un indice de type\n",
    "mon_entier = 42\n",
    "mon_entier: int = 42  # ici, on rajoute l'annotation de type disant qu'on attend un entier\n",
    "\n",
    "proportion: float = 0.5  # on formule 50% en utilisant un nombre à virgule\n",
    "\n",
    "message: str = \"la moitié de mon_entier est : \""
   ]
  },
  {
   "cell_type": "markdown",
   "id": "eaa04f6a",
   "metadata": {
    "slideshow": {
     "slide_type": "slide"
    }
   },
   "source": [
    "Ces annotations peuvent être utilisées pour détecter des problèmes. Testez le code suivant sur Thonny avec la vue `assistant` :"
   ]
  },
  {
   "cell_type": "code",
   "execution_count": null,
   "id": "850252ab",
   "metadata": {},
   "outputs": [],
   "source": [
    "mon_entier: int = 8\n",
    "ma_chaine: int = '8'  # incohérence entre l'indice et le type réel => on devrait avoir str et pas int\n",
    "proportion: float = 0.5\n",
    "final: int = mon_entier * proportion  # incohérence => on devrait avoir float"
   ]
  }
 ],
 "metadata": {
  "celltoolbar": "Slideshow",
  "kernelspec": {
   "display_name": "Python 3 (ipykernel)",
   "language": "python",
   "name": "python3"
  },
  "language_info": {
   "codemirror_mode": {
    "name": "ipython",
    "version": 3
   },
   "file_extension": ".py",
   "mimetype": "text/x-python",
   "name": "python",
   "nbconvert_exporter": "python",
   "pygments_lexer": "ipython3",
   "version": "3.10.12"
  },
  "livereveal": {
   "autolaunch": true,
   "scroll": true,
   "transition": "none"
  }
 },
 "nbformat": 4,
 "nbformat_minor": 5
}
