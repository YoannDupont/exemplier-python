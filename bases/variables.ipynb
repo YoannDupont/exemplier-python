{
 "cells": [
  {
   "cell_type": "markdown",
   "id": "a4c705b1",
   "metadata": {
    "slideshow": {
     "slide_type": "slide"
    }
   },
   "source": [
    "# Exemplier python\n",
    "\n",
    "## Structure conditonnelle : variables\n",
    "\n",
    "### Notes\n",
    "\n",
    "- Les valeurs affichées par `print` peuvent également se stocker dans une variable\n",
    "- Pour entrer dans une cellule de code, on appuie sur entrée ou on double-clic dessus.\n",
    "- Pour exécuter une cellule de code, appuyer sur shift+entrée.\n",
    "- Pour passer à la slide suivante, utiliser la touche espace.\n",
    "- Pour passer à la slide précédente, appuyer sur shift+espace."
   ]
  },
  {
   "cell_type": "markdown",
   "id": "395c1ad5",
   "metadata": {
    "slideshow": {
     "slide_type": "slide"
    }
   },
   "source": [
    "# Les bases"
   ]
  },
  {
   "cell_type": "markdown",
   "id": "07a81139",
   "metadata": {
    "slideshow": {
     "slide_type": "-"
    }
   },
   "source": [
    "Une variable, au sens informatique, c’est a minima :\n",
    "- un identifiant (son nom)\n",
    "- une valeur (sa... valeur )"
   ]
  },
  {
   "cell_type": "markdown",
   "id": "99a7b7bb",
   "metadata": {
    "slideshow": {
     "slide_type": "fragment"
    }
   },
   "source": [
    "En Python, les variables ont également les propriétés suivantes :\n",
    "- un type (la nature de la valeur)\n",
    "- elles sont modifiables (leur valeur est... variable)"
   ]
  },
  {
   "cell_type": "code",
   "execution_count": null,
   "id": "569e1a4e",
   "metadata": {
    "slideshow": {
     "slide_type": "subslide"
    }
   },
   "outputs": [],
   "source": [
    "largeur = 4\n",
    "couleur = \"purple\""
   ]
  },
  {
   "cell_type": "markdown",
   "id": "60737ce5",
   "metadata": {
    "slideshow": {
     "slide_type": "-"
    }
   },
   "source": [
    "Ici, on a déclaré deux variables :\n",
    "- la variable _largeur_, de type entier et de valeur 4\n",
    "- la variable _couleur_, de type chaîne de caractères et de valeur \"purple\""
   ]
  },
  {
   "cell_type": "code",
   "execution_count": null,
   "id": "9d642d19",
   "metadata": {
    "slideshow": {
     "slide_type": "-"
    }
   },
   "outputs": [],
   "source": [
    "print(\"la variable largeur a pour type :\", type(largeur), \"et pour valeur :\", largeur)\n",
    "print(\"la variable couleur a pour  type :\", type(couleur), \"et pour valeur :\", couleur)"
   ]
  },
  {
   "cell_type": "markdown",
   "id": "ebe88963",
   "metadata": {
    "slideshow": {
     "slide_type": "subslide"
    }
   },
   "source": [
    "Une variable, c'est simplement une valeur dont on décide de se souvenir. Le nom permet d'accéder à sa valeur, qui est la chose vraiment intéressante.\n",
    "\n",
    "Pour s'en convaincre, observons si on a bien les mêmes résultats en utilisant des variables ou des valeurs \"brutes\" :"
   ]
  },
  {
   "cell_type": "code",
   "execution_count": null,
   "id": "ae6e6885",
   "metadata": {},
   "outputs": [],
   "source": [
    "mot = \"beau\"\n",
    "texte = \"il fait beau et chaud\"\n",
    "\n",
    "print(\"beau\" in \"il fait beau et chaud\")\n",
    "print(\"beau\" in texte)\n",
    "print(mot in \"il fait beau et chaud\")\n",
    "print(mot in texte)"
   ]
  },
  {
   "cell_type": "markdown",
   "id": "f5bf9957",
   "metadata": {
    "slideshow": {
     "slide_type": "subslide"
    }
   },
   "source": [
    "Convaincu·e ?\n",
    "\n",
    "S'il fallait verser dans les analogies, voici des \"variables\" qu'on utilise dans notre vie de tous les jours ou universitaire :\n",
    "- `chez moi` : désigne votre adresse, mais si vous déménagez, \"chez moi\" désignera un autre endroit\n",
    "- `mon repas de midi` : désigne ce que vous mangez à midi, mais qui change tous les jours\n",
    "- `la salle de cours` : la salle où vous suivez un cours, mais autant la salle que le cours peuvent changer.\n",
    "- `l'exercice` : l'exercice que vous faites, qui change plusieurs fois par séance."
   ]
  },
  {
   "cell_type": "markdown",
   "id": "dd6af0e7",
   "metadata": {
    "slideshow": {
     "slide_type": "slide"
    }
   },
   "source": [
    "# Utilité des variables"
   ]
  },
  {
   "cell_type": "markdown",
   "id": "2f03dae5",
   "metadata": {
    "slideshow": {
     "slide_type": "-"
    }
   },
   "source": [
    "Comme on l'a dit, une variable permet de garder des choses en mémoire. Cette mémoire est la base pour créer du code qui suit un raisonnement.\n",
    "\n",
    "Prenons les noms communs de \"la classe\" les plus utilisés selon le [Wiktionnaire](https://fr.wiktionary.org/wiki/Wiktionnaire:Liste_de_1750_mots_fran%C3%A7ais_les_plus_courants) (basé sur des recherches de l'académie d'Amiens) :"
   ]
  },
  {
   "cell_type": "code",
   "execution_count": null,
   "id": "318c8880",
   "metadata": {},
   "outputs": [],
   "source": [
    "mes_mots = [\"angle\", \"armoire\", \"banc\", \"bureau\", \"cabinet\", \"carreau\", \"chaise\", \"classe\", \"clé\", \"coin\", \"couloir\", \"dossier\", \"eau\", \"école\", \"écriture\", \"entrée\", \"escalier\", \"étagère\", \"étude\", \"extérieur\", \"fenêtre\", \"intérieur\", \"lavabo\", \"lecture\", \"lit\", \"marche\", \"matelas\", \"maternelle\", \"meuble\", \"mousse\", \"mur\", \"peluche\", \"placard\", \"plafond\", \"porte\", \"portemanteau\", \"poubelle\", \"radiateur\", \"rampe\", \"récréation\", \"rentrée\", \"rideau\", \"robinet\", \"salle\", \"savon\", \"serrure\", \"serviette\", \"siège\", \"sieste\", \"silence\", \"sol\", \"sommeil\", \"sonnette\", \"sortie\", \"table\", \"tableau\", \"tabouret\", \"tapis\", \"tiroir\", \"toilette\", \"vitre\", \"w.-c.\"]"
   ]
  },
  {
   "cell_type": "markdown",
   "id": "f41fcebe",
   "metadata": {
    "slideshow": {
     "slide_type": "subslide"
    }
   },
   "source": [
    "La question maintenant est : combien de ces mots commencent par la lettre \"p\" ?\n",
    "\n",
    "Pour y répondre on va :\n",
    "- garder en mémoire le nombre de mots qui commencent par \"p\"\n",
    "- parcourir la liste `mes_mots` et augmenter ce nombre à chaque fois qu'on croise un mot qui commence par \"p\"."
   ]
  },
  {
   "cell_type": "markdown",
   "id": "85d35137",
   "metadata": {},
   "source": [
    "On doit donc savoir :\n",
    "- garder en mémoire le nombre de mots (implique une variable)\n",
    "- parcourir les mots de la liste un par un (on utilisera une `boucle for`)\n",
    "- savoir si un mot commence par quelque chose, à savoir \"p\" (on utilisera une fonction appelée `startswith`)"
   ]
  },
  {
   "cell_type": "code",
   "execution_count": null,
   "id": "613e1ef5",
   "metadata": {
    "slideshow": {
     "slide_type": "subslide"
    }
   },
   "outputs": [],
   "source": [
    "# combien de mots commencent par notre lettre ? On démarre à zéro.\n",
    "# On garde un nom un peu générique car on pourrait vouloir changer de lettre.\n",
    "combien = 0\n",
    "\n",
    "# pour chaque mot (=> mon_mot_actuel) de ma liste de mots (=> mes_mots)\n",
    "# mon_mot_actuel est ici une variable qui va garder en mémoire chacun des mots un à un dans la boucle\n",
    "for mon_mot_actuel in mes_mots:\n",
    "    # le bloc de code suivant va se répéter autant de fois qu'il y a de mots dans `mes_mots`\n",
    "    # on distingue un bloc en python car il est sur-indenté\n",
    "\n",
    "    if mon_mot_actuel.startswith(\"p\"): # si notre mot commence par la lettre\n",
    "        combien += 1 # on a trouvé un mot supplémentaire, on augmente le compte\n",
    "\n",
    "# à ce moment là, la boucle est finie, on sait qu'on a fini de compter\n",
    "print(\"Il y a\", combien, \"mots qui terminent par p.\")"
   ]
  },
  {
   "cell_type": "markdown",
   "id": "ec866cf0",
   "metadata": {
    "slideshow": {
     "slide_type": "slide"
    }
   },
   "source": [
    "# Le nommage"
   ]
  },
  {
   "cell_type": "markdown",
   "id": "d470b13a",
   "metadata": {},
   "source": [
    "Un identifiant désigne une unique variable. Quelques règles et conventions sont\n",
    "données dans les [PEP 8](https://peps.python.org/pep-0008) et [PEP 3131](https://peps.python.org/pep-3131).\n",
    "- Uniquement des lettres, chiffres et underscores (`_`)\n",
    "- Ne peut pas commencer par un chiffre\n",
    "- Majuscules et minuscules considérées comme différentes (`l` vs `I`, `O` vs `0`)\n",
    "- Éviter les lettres accentuées ou autres alphabets (interdits dans certains cas)\n",
    "- Certains mots sont réservés à Python : les mots-clés : `False`, `True`, `None`, `and`, `as`, `assert`, `async`, `await`, `break`, `class`, `continue`, `def`, `del`, `elif`, `else`, `except`, `finally`, `for`, `from`, `global`, `if`, `import`, `in`, `is`, `lambda`, `nonlocal`, `not`, `or`, `pass`, `raise`, `return`, `try`, `while`, `with`, `yield`"
   ]
  },
  {
   "cell_type": "markdown",
   "id": "f6ed5daf",
   "metadata": {
    "slideshow": {
     "slide_type": "subslide"
    }
   },
   "source": [
    "## Les bonnes pratiques de nommage"
   ]
  },
  {
   "cell_type": "markdown",
   "id": "f675008d",
   "metadata": {},
   "source": [
    "C'est nous qui décidons du nom d'une variable, il n'a pas vraiment d'importance en soi. Par analogie, c'est un peu comme votre prénom : on vous l'a donné à la naissance mais vous auriez très bien pu en avoir un autre et ça fonctionnerait tout pareil."
   ]
  },
  {
   "cell_type": "code",
   "execution_count": null,
   "id": "734b07f1",
   "metadata": {},
   "outputs": [],
   "source": [
    "mes_mots = [\"angle\", \"armoire\", \"banc\", \"bureau\", \"cabinet\", \"carreau\", \"chaise\", \"classe\", \"clé\", \"coin\", \"couloir\", \"dossier\", \"eau\", \"école\", \"écriture\", \"entrée\", \"escalier\", \"étagère\", \"étude\", \"extérieur\", \"fenêtre\", \"intérieur\", \"lavabo\", \"lecture\", \"lit\", \"marche\", \"matelas\", \"maternelle\", \"meuble\", \"mousse\", \"mur\", \"peluche\", \"placard\", \"plafond\", \"porte\", \"portemanteau\", \"poubelle\", \"radiateur\", \"rampe\", \"récréation\", \"rentrée\", \"rideau\", \"robinet\", \"salle\", \"savon\", \"serrure\", \"serviette\", \"siège\", \"sieste\", \"silence\", \"sol\", \"sommeil\", \"sonnette\", \"sortie\", \"table\", \"tableau\", \"tabouret\", \"tapis\", \"tiroir\", \"toilette\", \"vitre\", \"w.-c.\"]\n",
    "combien = 0\n",
    "for mon_mot_actuel in mes_mots:\n",
    "    if mon_mot_actuel.startswith(\"p\"):\n",
    "        combien += 1\n",
    "print(\"Il y a\", combien, \"mots qui terminent par p.\")"
   ]
  },
  {
   "cell_type": "markdown",
   "id": "d713844a",
   "metadata": {
    "slideshow": {
     "slide_type": "subslide"
    }
   },
   "source": [
    "Souvenez-vous donc d'être sympa avec le vous du futur : le code suivant fait la même chose que celui d'avant, mais est-il plus ou moins compréhensible ?"
   ]
  },
  {
   "cell_type": "code",
   "execution_count": null,
   "id": "0b75d4cd",
   "metadata": {},
   "outputs": [],
   "source": [
    "lqkjzdO = [\"angle\", \"armoire\", \"banc\", \"bureau\", \"cabinet\", \"carreau\", \"chaise\", \"classe\", \"clé\", \"coin\", \"couloir\", \"dossier\", \"eau\", \"école\", \"écriture\", \"entrée\", \"escalier\", \"étagère\", \"étude\", \"extérieur\", \"fenêtre\", \"intérieur\", \"lavabo\", \"lecture\", \"lit\", \"marche\", \"matelas\", \"maternelle\", \"meuble\", \"mousse\", \"mur\", \"peluche\", \"placard\", \"plafond\", \"porte\", \"portemanteau\", \"poubelle\", \"radiateur\", \"rampe\", \"récréation\", \"rentrée\", \"rideau\", \"robinet\", \"salle\", \"savon\", \"serrure\", \"serviette\", \"siège\", \"sieste\", \"silence\", \"sol\", \"sommeil\", \"sonnette\", \"sortie\", \"table\", \"tableau\", \"tabouret\", \"tapis\", \"tiroir\", \"toilette\", \"vitre\", \"w.-c.\"]\n",
    "lqkjzd0 = 0\n",
    "for lqkizdO in lqkjzdO:\n",
    "    if lqkizdO.startswith(\"p\"):\n",
    "        lqkjzd0 += 1\n",
    "print(\"Il y a\", lqkjzd0, \"mots qui terminent par p.\")"
   ]
  },
  {
   "cell_type": "markdown",
   "id": "b2bca010",
   "metadata": {
    "slideshow": {
     "slide_type": "slide"
    }
   },
   "source": [
    "# Le typage"
   ]
  },
  {
   "cell_type": "markdown",
   "id": "356c5453",
   "metadata": {},
   "source": [
    "Le type indique la nature d’une valeur/variable. Il permet de savoir comment on\n",
    "manipule l’information indiquée.\n",
    "- int les entiers : 1 , 2 , 3\n",
    "- float les nombres à virgule : 1.0 , 2.5 , 3.1415\n",
    "- str les chaînes de caractère (string) : \"Hello, world!\", \"théâtre\", \"2.5\"\n",
    "- bool les booléens (faux/vrai) : False, True\n",
    "- list les listes (files, piles) : [], [1, 2, 3], [\"premier\", \"deuxième\"]"
   ]
  },
  {
   "cell_type": "markdown",
   "id": "827f55fd",
   "metadata": {
    "slideshow": {
     "slide_type": "subslide"
    }
   },
   "source": [
    "# Le système de typage en Python\n",
    "\n",
    "- typage canard (duck typing) : on devine le type en lisant sa valeur\n",
    "- dynamique : le type d’une variable peut changer après sa déclaration\n",
    "- fort : on ne mélange pas les types n’importe comment"
   ]
  },
  {
   "cell_type": "markdown",
   "id": "cab6de09",
   "metadata": {
    "slideshow": {
     "slide_type": "slide"
    }
   },
   "source": [
    "# Fonctions utiles"
   ]
  },
  {
   "cell_type": "markdown",
   "id": "e07cf3f9",
   "metadata": {},
   "source": [
    "`type` pour connaître le type d’une valeur :"
   ]
  },
  {
   "cell_type": "code",
   "execution_count": null,
   "id": "08e7e93f",
   "metadata": {},
   "outputs": [],
   "source": [
    "compteur = \"1\"\n",
    "\n",
    "print(type(1))\n",
    "print(type(\"1\"))\n",
    "print(type(compteur))"
   ]
  },
  {
   "cell_type": "markdown",
   "id": "63f248ed",
   "metadata": {
    "slideshow": {
     "slide_type": "subslide"
    }
   },
   "source": [
    "`str` et `repr` pour avoir une représentation graphique de la valeur :\n",
    "- str se veut lisible\n",
    "- repr se veut exacte (proche du code)"
   ]
  },
  {
   "cell_type": "code",
   "execution_count": null,
   "id": "f1f41a79",
   "metadata": {},
   "outputs": [],
   "source": [
    "print('str(\"1\") =>',str(\"1\"), '; repr(\"1\") =>', repr(\"1\"))\n",
    "print('str(1) =>', str(1), '; repr(1) =>', repr(1))"
   ]
  }
 ],
 "metadata": {
  "celltoolbar": "Slideshow",
  "kernelspec": {
   "display_name": "Python 3 (ipykernel)",
   "language": "python",
   "name": "python3"
  },
  "language_info": {
   "codemirror_mode": {
    "name": "ipython",
    "version": 3
   },
   "file_extension": ".py",
   "mimetype": "text/x-python",
   "name": "python",
   "nbconvert_exporter": "python",
   "pygments_lexer": "ipython3",
   "version": "3.10.6"
  },
  "livereveal": {
   "autolaunch": true,
   "scroll": true,
   "transition": "none"
  }
 },
 "nbformat": 4,
 "nbformat_minor": 5
}
