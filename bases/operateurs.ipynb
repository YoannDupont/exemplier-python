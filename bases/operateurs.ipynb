{
 "cells": [
  {
   "cell_type": "markdown",
   "id": "a4c705b1",
   "metadata": {
    "slideshow": {
     "slide_type": "slide"
    }
   },
   "source": [
    "# Exemplier python\n",
    "\n",
    "## Structure conditonnelle : les opérateurs\n",
    "\n",
    "### Notes\n",
    "\n",
    "- Les valeurs affichées par `print` peuvent également se stocker dans une variable\n",
    "- Pour entrer dans une cellule de code, on appuie sur entrée ou on double-clic dessus.\n",
    "- Pour exécuter une cellule de code, appuyer sur shift+entrée.\n",
    "- Pour passer à la slide suivante, utiliser la touche espace.\n",
    "- Pour passer à la slide précédente, appuyer sur shift+espace."
   ]
  },
  {
   "cell_type": "markdown",
   "id": "42f47ea4",
   "metadata": {
    "slideshow": {
     "slide_type": "slide"
    }
   },
   "source": [
    "# Opérateurs booléens"
   ]
  },
  {
   "cell_type": "markdown",
   "id": "edf180c8",
   "metadata": {
    "slideshow": {
     "slide_type": "-"
    }
   },
   "source": [
    "Opérateurs simples, leur résultat est toujours vrai (_True_) ou faux (_False_)"
   ]
  },
  {
   "cell_type": "markdown",
   "id": "9572570d",
   "metadata": {
    "slideshow": {
     "slide_type": "subslide"
    }
   },
   "source": [
    "## Comparaison / ordonnancement"
   ]
  },
  {
   "cell_type": "markdown",
   "id": "40339e03",
   "metadata": {
    "slideshow": {
     "slide_type": "-"
    }
   },
   "source": [
    "| opérateur | signification | exemple | résultat |\n",
    "|-|-|-|-|\n",
    "| == | égal | \"a\" == \"a\" | True |\n",
    "| != | différent | \"a\" != \"a\" | False |\n",
    "| < | inférieur | 3 < 3 | False |\n",
    "| <= | inférieur ou égal | 3 <= 3 | True |\n",
    "| > | supérieur | \"chien\" > \"chat\" | True |\n",
    "| >= | supérieur ou égal | \"chien\" >= \"chat\" | True |"
   ]
  },
  {
   "cell_type": "markdown",
   "id": "25b83fa6",
   "metadata": {
    "slideshow": {
     "slide_type": "subslide"
    }
   },
   "source": [
    "## Comparaison / inclusion"
   ]
  },
  {
   "cell_type": "markdown",
   "id": "f5fb088f",
   "metadata": {},
   "source": [
    "Remplacer les `;` des exemples par des retours à la ligne"
   ]
  },
  {
   "cell_type": "markdown",
   "id": "cb7f61f9",
   "metadata": {
    "slideshow": {
     "slide_type": "-"
    }
   },
   "source": [
    "| opérateur | signification | exemple 1 | résultat 1 | exemple 2 | résultat 2 |\n",
    "|-|-|-|-|-|-|\n",
    "| is | est le même objet | a=1;b=1;a is b | True | a=\\[\\];b=\\[\\];a is b | False |\n",
    "| is not | n'est pas le même objet | a=1;b=1;a is not b | False | a=\\[\\];b=\\[\\];a is not b | True |\n",
    "| in | contient | \"e\" in \"whisky\" | False | \"Salut\" in \\[\"Salut\", \"ça\", \"va\"\\] | True |\n",
    "| not in | ne contient pas | \"e\" not in \"whisky\" | True | \"salut\" not in \\[\"Salut\", \"ça\", \"va\"\\] | True |"
   ]
  },
  {
   "cell_type": "markdown",
   "id": "a1f9ca01",
   "metadata": {
    "slideshow": {
     "slide_type": "subslide"
    }
   },
   "source": [
    "## Jonction (mise en relation)"
   ]
  },
  {
   "cell_type": "markdown",
   "id": "f4b278c3",
   "metadata": {
    "slideshow": {
     "slide_type": "-"
    }
   },
   "source": [
    "S'applique uniquement à des booléens.\n",
    "\n",
    "| opérateur | signification | exemple 1 | résultat 1 | exemple 2 | résultat 2 |\n",
    "|-|-|-|-|-|-|\n",
    "| and | et | True and True | True | False and True | False |\n",
    "| or | ou inclusif | True or True | True | False or True | True |\n",
    "| not | négation | not True | False | not False | True |"
   ]
  },
  {
   "cell_type": "markdown",
   "id": "29288869",
   "metadata": {
    "slideshow": {
     "slide_type": "slide"
    }
   },
   "source": [
    "# Opérateurs mathématiques "
   ]
  },
  {
   "cell_type": "markdown",
   "id": "79d12ebf",
   "metadata": {
    "slideshow": {
     "slide_type": "-"
    }
   },
   "source": [
    "Prend deux valeurs et donne une nouvelle valeur en retour."
   ]
  },
  {
   "cell_type": "markdown",
   "id": "1ccaa4c7",
   "metadata": {
    "slideshow": {
     "slide_type": "-"
    }
   },
   "source": [
    "| opérateur | signification |\n",
    "|-|-|\n",
    "| + | addition (ajout) |\n",
    "| - | soustraction |\n",
    "| * | multiplication |\n",
    "| / | division |\n",
    "| ** | exposant (\"puissance\") |\n",
    "| % | modulo (reste positif de la division) |"
   ]
  },
  {
   "cell_type": "markdown",
   "id": "d363a670",
   "metadata": {
    "slideshow": {
     "slide_type": "subslide"
    }
   },
   "source": [
    "## + : l'Addition"
   ]
  },
  {
   "cell_type": "markdown",
   "id": "add00b38",
   "metadata": {
    "slideshow": {
     "slide_type": "-"
    }
   },
   "source": [
    "Peut s'interpréter de différentes façon selon les types concernés. Le résultat est toujours logique et le plus simple."
   ]
  },
  {
   "cell_type": "code",
   "execution_count": 7,
   "id": "8d64c20b",
   "metadata": {},
   "outputs": [
    {
     "name": "stdout",
     "output_type": "stream",
     "text": [
      "5 + 5 = 10\n",
      "5.0 + 5.0 = 10.0\n",
      "5 + 5.0 = 10.0\n",
      "5.0 + 5 = 10.0\n",
      "\"anti\" + \"tussif\" = antitussif\n"
     ]
    }
   ],
   "source": [
    "print(\"5 + 5 =\", 5 + 5)\n",
    "print(\"5.0 + 5.0 =\", 5.0 + 5.0)\n",
    "print(\"5 + 5.0 =\", 5 + 5.0)\n",
    "print(\"5.0 + 5 =\", 5.0 + 5)\n",
    "print('\"anti\" + \"tussif\" =', \"anti\" + \"tussif\")"
   ]
  },
  {
   "cell_type": "markdown",
   "id": "b05d2b72",
   "metadata": {
    "slideshow": {
     "slide_type": "-"
    }
   },
   "source": [
    "On peut avoir des types différents, mais seulement si c'est logique. Les exemples suivants plantent et python en indique la raison :"
   ]
  },
  {
   "cell_type": "code",
   "execution_count": 10,
   "id": "c550a487",
   "metadata": {},
   "outputs": [
    {
     "ename": "TypeError",
     "evalue": "unsupported operand type(s) for +: 'int' and 'str'",
     "output_type": "error",
     "traceback": [
      "\u001b[0;31m---------------------------------------------------------------------------\u001b[0m",
      "\u001b[0;31mTypeError\u001b[0m                                 Traceback (most recent call last)",
      "Cell \u001b[0;32mIn[10], line 1\u001b[0m\n\u001b[0;32m----> 1\u001b[0m \u001b[38;5;28mprint\u001b[39m(\u001b[38;5;124m'\u001b[39m\u001b[38;5;124m5 + \u001b[39m\u001b[38;5;124m\"\u001b[39m\u001b[38;5;124mtussif\u001b[39m\u001b[38;5;124m\"\u001b[39m\u001b[38;5;124m =\u001b[39m\u001b[38;5;124m'\u001b[39m, \u001b[38;5;241;43m5\u001b[39;49m\u001b[43m \u001b[49m\u001b[38;5;241;43m+\u001b[39;49m\u001b[43m \u001b[49m\u001b[38;5;124;43m\"\u001b[39;49m\u001b[38;5;124;43mtussif\u001b[39;49m\u001b[38;5;124;43m\"\u001b[39;49m)\n",
      "\u001b[0;31mTypeError\u001b[0m: unsupported operand type(s) for +: 'int' and 'str'"
     ]
    }
   ],
   "source": [
    "print('5 + \"tussif\" =', 5 + \"tussif\")"
   ]
  },
  {
   "cell_type": "code",
   "execution_count": 11,
   "id": "42e91918",
   "metadata": {
    "scrolled": true
   },
   "outputs": [
    {
     "ename": "TypeError",
     "evalue": "unsupported operand type(s) for +: 'int' and 'str'",
     "output_type": "error",
     "traceback": [
      "\u001b[0;31m---------------------------------------------------------------------------\u001b[0m",
      "\u001b[0;31mTypeError\u001b[0m                                 Traceback (most recent call last)",
      "Cell \u001b[0;32mIn[11], line 1\u001b[0m\n\u001b[0;32m----> 1\u001b[0m \u001b[38;5;28mprint\u001b[39m(\u001b[38;5;124m'\u001b[39m\u001b[38;5;124m5 + \u001b[39m\u001b[38;5;124m\"\u001b[39m\u001b[38;5;124m5\u001b[39m\u001b[38;5;124m\"\u001b[39m\u001b[38;5;124m =\u001b[39m\u001b[38;5;124m'\u001b[39m, \u001b[38;5;241;43m5\u001b[39;49m\u001b[43m \u001b[49m\u001b[38;5;241;43m+\u001b[39;49m\u001b[43m \u001b[49m\u001b[38;5;124;43m\"\u001b[39;49m\u001b[38;5;124;43m5\u001b[39;49m\u001b[38;5;124;43m\"\u001b[39;49m)\n",
      "\u001b[0;31mTypeError\u001b[0m: unsupported operand type(s) for +: 'int' and 'str'"
     ]
    }
   ],
   "source": [
    "print('5 + \"5\" =', 5 + \"5\")"
   ]
  },
  {
   "cell_type": "markdown",
   "id": "83a315ed",
   "metadata": {
    "slideshow": {
     "slide_type": "subslide"
    }
   },
   "source": [
    "## - : la soustraction"
   ]
  },
  {
   "cell_type": "markdown",
   "id": "52e396ed",
   "metadata": {
    "slideshow": {
     "slide_type": "-"
    }
   },
   "source": [
    "Plus restrictive que l'addition, s'interprète uniquement pour des nombres :"
   ]
  },
  {
   "cell_type": "code",
   "execution_count": 14,
   "id": "28cd99b2",
   "metadata": {},
   "outputs": [
    {
     "name": "stdout",
     "output_type": "stream",
     "text": [
      "5 - 5 = 0\n",
      "5.0 - 5.0 = 0.0\n",
      "5 - 5.0 = 0.0\n",
      "5.0 - 5 = 0.0\n"
     ]
    }
   ],
   "source": [
    "print(\"5 - 5 =\", 5 - 5)\n",
    "print(\"5.0 - 5.0 =\", 5.0 - 5.0)\n",
    "print(\"5 - 5.0 =\", 5 - 5.0)\n",
    "print(\"5.0 - 5 =\", 5.0 - 5)"
   ]
  },
  {
   "cell_type": "markdown",
   "id": "ccc99099",
   "metadata": {
    "slideshow": {
     "slide_type": "-"
    }
   },
   "source": [
    "La soustraction ne s'applique pas aux `str`, contrairement à l'addition :"
   ]
  },
  {
   "cell_type": "code",
   "execution_count": 13,
   "id": "4a65d5f9",
   "metadata": {},
   "outputs": [
    {
     "ename": "TypeError",
     "evalue": "unsupported operand type(s) for -: 'str' and 'str'",
     "output_type": "error",
     "traceback": [
      "\u001b[0;31m---------------------------------------------------------------------------\u001b[0m",
      "\u001b[0;31mTypeError\u001b[0m                                 Traceback (most recent call last)",
      "Cell \u001b[0;32mIn[13], line 1\u001b[0m\n\u001b[0;32m----> 1\u001b[0m \u001b[38;5;28mprint\u001b[39m(\u001b[38;5;124m'\u001b[39m\u001b[38;5;124m\"\u001b[39m\u001b[38;5;124manti\u001b[39m\u001b[38;5;124m\"\u001b[39m\u001b[38;5;124m - \u001b[39m\u001b[38;5;124m\"\u001b[39m\u001b[38;5;124mtussif\u001b[39m\u001b[38;5;124m\"\u001b[39m\u001b[38;5;124m =\u001b[39m\u001b[38;5;124m'\u001b[39m, \u001b[38;5;124;43m\"\u001b[39;49m\u001b[38;5;124;43manti\u001b[39;49m\u001b[38;5;124;43m\"\u001b[39;49m\u001b[43m \u001b[49m\u001b[38;5;241;43m-\u001b[39;49m\u001b[43m \u001b[49m\u001b[38;5;124;43m\"\u001b[39;49m\u001b[38;5;124;43mtussif\u001b[39;49m\u001b[38;5;124;43m\"\u001b[39;49m)\n",
      "\u001b[0;31mTypeError\u001b[0m: unsupported operand type(s) for -: 'str' and 'str'"
     ]
    }
   ],
   "source": [
    "print('\"anti\" - \"tussif\" =', \"anti\" - \"tussif\")"
   ]
  },
  {
   "cell_type": "markdown",
   "id": "214619df",
   "metadata": {
    "slideshow": {
     "slide_type": "subslide"
    }
   },
   "source": [
    "## * : La multiplication"
   ]
  },
  {
   "cell_type": "markdown",
   "id": "f81990c3",
   "metadata": {
    "slideshow": {
     "slide_type": "-"
    }
   },
   "source": [
    "Peut s'interpréter de différentes façon selon les types concernés. Le résultat est toujours logique et le plus simple."
   ]
  },
  {
   "cell_type": "code",
   "execution_count": 16,
   "id": "91e8410e",
   "metadata": {},
   "outputs": [
    {
     "name": "stdout",
     "output_type": "stream",
     "text": [
      "5 * 5 = 25\n",
      "5.0 * 5.0 = 25.0\n",
      "5 * 5.0 = 25.0\n",
      "5.0 * 5 = 25.0\n",
      "5 * \"na\" = nanananana\n",
      "\"na\" * 5 = nanananana\n"
     ]
    }
   ],
   "source": [
    "print(\"5 * 5 =\", 5 * 5)\n",
    "print(\"5.0 * 5.0 =\", 5.0 * 5.0)\n",
    "print(\"5 * 5.0 =\", 5 * 5.0)\n",
    "print(\"5.0 * 5 =\", 5.0 * 5)\n",
    "print('5 * \"na\" =', 5 * \"na\")\n",
    "print('\"na\" * 5 =', \"na\" * 5)"
   ]
  },
  {
   "cell_type": "markdown",
   "id": "04e981a8",
   "metadata": {
    "slideshow": {
     "slide_type": "-"
    }
   },
   "source": [
    "Il faut cependant que cela fasse du sens :"
   ]
  },
  {
   "cell_type": "code",
   "execution_count": 17,
   "id": "a8facd89",
   "metadata": {},
   "outputs": [
    {
     "ename": "TypeError",
     "evalue": "can't multiply sequence by non-int of type 'str'",
     "output_type": "error",
     "traceback": [
      "\u001b[0;31m---------------------------------------------------------------------------\u001b[0m",
      "\u001b[0;31mTypeError\u001b[0m                                 Traceback (most recent call last)",
      "Cell \u001b[0;32mIn[17], line 1\u001b[0m\n\u001b[0;32m----> 1\u001b[0m \u001b[38;5;28mprint\u001b[39m(\u001b[38;5;124m'\u001b[39m\u001b[38;5;124m\"\u001b[39m\u001b[38;5;124manti\u001b[39m\u001b[38;5;124m\"\u001b[39m\u001b[38;5;124m * \u001b[39m\u001b[38;5;124m\"\u001b[39m\u001b[38;5;124mtussif\u001b[39m\u001b[38;5;124m\"\u001b[39m\u001b[38;5;124m =\u001b[39m\u001b[38;5;124m'\u001b[39m, \u001b[38;5;124;43m\"\u001b[39;49m\u001b[38;5;124;43manti\u001b[39;49m\u001b[38;5;124;43m\"\u001b[39;49m\u001b[43m \u001b[49m\u001b[38;5;241;43m*\u001b[39;49m\u001b[43m \u001b[49m\u001b[38;5;124;43m\"\u001b[39;49m\u001b[38;5;124;43mtussif\u001b[39;49m\u001b[38;5;124;43m\"\u001b[39;49m)\n",
      "\u001b[0;31mTypeError\u001b[0m: can't multiply sequence by non-int of type 'str'"
     ]
    }
   ],
   "source": [
    "print('\"anti\" * \"tussif\" =', \"anti\" * \"tussif\")"
   ]
  },
  {
   "cell_type": "markdown",
   "id": "98d382a2",
   "metadata": {
    "slideshow": {
     "slide_type": "subslide"
    }
   },
   "source": [
    "## / et // : la division et la division entière"
   ]
  },
  {
   "cell_type": "markdown",
   "id": "94b6aadf",
   "metadata": {
    "slideshow": {
     "slide_type": "-"
    }
   },
   "source": [
    "Ne s'applique qu'aux types numériques (entiers, réels). Le résultat est toujours un réel :"
   ]
  },
  {
   "cell_type": "code",
   "execution_count": 18,
   "id": "803da9cc",
   "metadata": {},
   "outputs": [
    {
     "name": "stdout",
     "output_type": "stream",
     "text": [
      "5 / 2 = 2.5\n",
      "5.0 / 2.0 = 2.5\n",
      "5 / 2.0 = 2.5\n",
      "5.0 / 2 = 2.5\n"
     ]
    }
   ],
   "source": [
    "print(\"5 / 2 =\", 5 / 2)\n",
    "print(\"5.0 / 2.0 =\", 5.0 / 2.0)\n",
    "print(\"5 / 2.0 =\", 5 / 2.0)\n",
    "print(\"5.0 / 2 =\", 5.0 / 2)"
   ]
  },
  {
   "cell_type": "markdown",
   "id": "b59790c6",
   "metadata": {
    "slideshow": {
     "slide_type": "-"
    }
   },
   "source": [
    "Pour avoir un résultat \"rond\", on utilise la division entière `//`.\n",
    "\n",
    "Notez qu'on a des différences de type selon les types des nombres utilisés. Néamnoins, tous peuvent être convertis vers un entier :"
   ]
  },
  {
   "cell_type": "code",
   "execution_count": 20,
   "id": "35971987",
   "metadata": {},
   "outputs": [
    {
     "name": "stdout",
     "output_type": "stream",
     "text": [
      "5 // 2 = 2\n",
      "5.0 // 2.0 = 2.0\n",
      "5 // 2.0 = 2.0\n",
      "5.0 // 2 = 2.0\n"
     ]
    }
   ],
   "source": [
    "print(\"5 // 2 =\", 5 // 2)\n",
    "print(\"5.0 // 2.0 =\", 5.0 // 2.0)\n",
    "print(\"5 // 2.0 =\", 5 // 2.0)\n",
    "print(\"5.0 // 2 =\", 5.0 // 2)"
   ]
  },
  {
   "cell_type": "markdown",
   "id": "f13fd2cc",
   "metadata": {
    "slideshow": {
     "slide_type": "subslide"
    }
   },
   "source": [
    "## ** : l'exposant (\"puissance\")"
   ]
  },
  {
   "cell_type": "markdown",
   "id": "2f1c782e",
   "metadata": {
    "slideshow": {
     "slide_type": "-"
    }
   },
   "source": [
    "x^n, où x et n sont des nombres :"
   ]
  },
  {
   "cell_type": "code",
   "execution_count": 23,
   "id": "93031875",
   "metadata": {},
   "outputs": [
    {
     "name": "stdout",
     "output_type": "stream",
     "text": [
      "5**2 = 25\n",
      "5**2.0 = 25.0\n",
      "5**2 = 25.0\n",
      "25**(1/2) = 5.0\n",
      "25**0.25 = 5.0\n"
     ]
    }
   ],
   "source": [
    "print(\"5**2 =\", 5**2)\n",
    "print(\"5**2.0 =\", 5**2.0)\n",
    "print(\"5**2 =\", 5.0**2)\n",
    "print(\"25**(1/2) =\", 25**(1/2))\n",
    "print(\"25**0.25 =\", 25**0.5)"
   ]
  },
  {
   "cell_type": "markdown",
   "id": "a5146874",
   "metadata": {
    "slideshow": {
     "slide_type": "subslide"
    }
   },
   "source": [
    "## % : le modulo"
   ]
  },
  {
   "cell_type": "markdown",
   "id": "bda5f184",
   "metadata": {
    "slideshow": {
     "slide_type": "-"
    }
   },
   "source": [
    "Permet d'obtenir le reste de la division :"
   ]
  },
  {
   "cell_type": "code",
   "execution_count": 24,
   "id": "242084a7",
   "metadata": {},
   "outputs": [
    {
     "name": "stdout",
     "output_type": "stream",
     "text": [
      "10 % 2 =  1\n",
      "11 % 2 =  1\n",
      "11 % 3 =  2\n"
     ]
    }
   ],
   "source": [
    "print(\"10 % 2 = \", 11 % 2)\n",
    "print(\"11 % 2 = \", 11 % 2)\n",
    "print(\"11 % 3 = \", 11 % 3)"
   ]
  },
  {
   "cell_type": "markdown",
   "id": "4ce1ab55",
   "metadata": {
    "slideshow": {
     "slide_type": "-"
    }
   },
   "source": [
    "On peut s'en servir pour savoir si un nombre est un multiple d'un autre."
   ]
  },
  {
   "cell_type": "code",
   "execution_count": 38,
   "id": "46b06db0",
   "metadata": {},
   "outputs": [
    {
     "name": "stdout",
     "output_type": "stream",
     "text": [
      "27 divisé par 4 vaut 6 reste 3\n",
      "6 * 4 + 3 == 27 ? True\n"
     ]
    }
   ],
   "source": [
    "print(\"27 divisé par 4 vaut\", 27 // 4, \"reste\", 27 % 4)\n",
    "print(\"6 * 4 + 3 == 27 ?\", 6 * 4 + 3 == 27)"
   ]
  },
  {
   "cell_type": "code",
   "execution_count": null,
   "id": "26561412",
   "metadata": {
    "scrolled": true
   },
   "outputs": [],
   "source": []
  },
  {
   "cell_type": "markdown",
   "id": "92ed463a",
   "metadata": {
    "slideshow": {
     "slide_type": "subslide"
    }
   },
   "source": [
    "## Affectations augmentées"
   ]
  },
  {
   "cell_type": "code",
   "execution_count": null,
   "id": "d77aaad1",
   "metadata": {},
   "outputs": [],
   "source": []
  }
 ],
 "metadata": {
  "celltoolbar": "Slideshow",
  "kernelspec": {
   "display_name": "Python 3 (ipykernel)",
   "language": "python",
   "name": "python3"
  },
  "language_info": {
   "codemirror_mode": {
    "name": "ipython",
    "version": 3
   },
   "file_extension": ".py",
   "mimetype": "text/x-python",
   "name": "python",
   "nbconvert_exporter": "python",
   "pygments_lexer": "ipython3",
   "version": "3.10.6"
  },
  "livereveal": {
   "autolaunch": true,
   "scroll": true,
   "transition": "none"
  }
 },
 "nbformat": 4,
 "nbformat_minor": 5
}
