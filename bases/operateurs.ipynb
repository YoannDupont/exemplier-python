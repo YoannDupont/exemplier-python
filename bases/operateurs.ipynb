{
 "cells": [
  {
   "cell_type": "markdown",
   "id": "a4c705b1",
   "metadata": {
    "slideshow": {
     "slide_type": "slide"
    }
   },
   "source": [
    "# Exemplier python\n",
    "\n",
    "## Structure conditonnelle : les opérateurs\n",
    "\n",
    "### Notes\n",
    "\n",
    "- Les valeurs affichées par `print` peuvent également se stocker dans une variable\n",
    "- Pour entrer dans une cellule de code, on appuie sur entrée ou on double-clic dessus.\n",
    "- Pour exécuter une cellule de code, appuyer sur shift+entrée.\n",
    "- Pour passer à la slide suivante, utiliser la touche espace.\n",
    "- Pour passer à la slide précédente, appuyer sur shift+espace."
   ]
  },
  {
   "cell_type": "markdown",
   "id": "42f47ea4",
   "metadata": {
    "slideshow": {
     "slide_type": "slide"
    }
   },
   "source": [
    "# Opérateurs booléens"
   ]
  },
  {
   "cell_type": "markdown",
   "id": "edf180c8",
   "metadata": {
    "slideshow": {
     "slide_type": "-"
    }
   },
   "source": [
    "Leur résultat est toujours vrai (_True_) ou faux (_False_).\n",
    "\n",
    "Dans certains cas, on utilisera les valeurs _True_ et _False_ pour illustrer un comportement. On peut remplacer ces valeurs par n'importe quelle [expression booléenne](https://en.wikipedia.org/wiki/Boolean_expression)."
   ]
  },
  {
   "cell_type": "markdown",
   "id": "9572570d",
   "metadata": {
    "slideshow": {
     "slide_type": "subslide"
    }
   },
   "source": [
    "## Comparaison / ordonnancement"
   ]
  },
  {
   "cell_type": "markdown",
   "id": "40339e03",
   "metadata": {
    "slideshow": {
     "slide_type": "-"
    }
   },
   "source": [
    "| opérateur | signification | exemple | résultat |\n",
    "|-|-|-|-|\n",
    "| == | égal | \"a\" == \"a\" | True |\n",
    "| != | différent | \"a\" != \"a\" | False |\n",
    "| < | inférieur | 3 < 3 | False |\n",
    "| <= | inférieur ou égal | 3 <= 3 | True |\n",
    "| > | supérieur | \"chien\" > \"chat\" | True |\n",
    "| >= | supérieur ou égal | \"chien\" >= \"chat\" | True |"
   ]
  },
  {
   "cell_type": "markdown",
   "id": "25b83fa6",
   "metadata": {
    "slideshow": {
     "slide_type": "subslide"
    }
   },
   "source": [
    "## Comparaison / inclusion"
   ]
  },
  {
   "cell_type": "markdown",
   "id": "f5fb088f",
   "metadata": {
    "slideshow": {
     "slide_type": "-"
    }
   },
   "source": [
    "Remplacer les `;` des exemples par des retours à la ligne. Le résultat donné pour les exemples comprenant des `;` est celui de la dernière instruction."
   ]
  },
  {
   "cell_type": "markdown",
   "id": "cb7f61f9",
   "metadata": {
    "slideshow": {
     "slide_type": "-"
    }
   },
   "source": [
    "| opérateur | signification | exemple 1 | résultat 1 | exemple 2 | résultat 2 |\n",
    "|-|-|-|-|-|-|\n",
    "| is | est le même objet | a=1;b=1;a is b | True | a=\\[\\];b=\\[\\];a is b | False |\n",
    "| is not | n'est pas le même objet | a=1;b=1;a is not b | False | a=\\[\\];b=\\[\\];a is not b | True |\n",
    "| in | contient | \"e\" in \"whisky\" | False | \"Salut\" in \\[\"Salut\", \"ça\", \"va\"\\] | True |\n",
    "| not in | ne contient pas | \"e\" not in \"whisky\" | True | \"salut\" not in \\[\"Salut\", \"ça\", \"va\"\\] | True |"
   ]
  },
  {
   "cell_type": "markdown",
   "id": "a1f9ca01",
   "metadata": {
    "slideshow": {
     "slide_type": "subslide"
    }
   },
   "source": [
    "## Jonction (mise en relation)"
   ]
  },
  {
   "cell_type": "markdown",
   "id": "f4b278c3",
   "metadata": {
    "slideshow": {
     "slide_type": "-"
    }
   },
   "source": [
    "S'applique uniquement à des booléens.\n",
    "\n",
    "| opérateur | signification | exemple 1 | résultat 1 | exemple 2 | résultat 2 |\n",
    "|-|-|-|-|-|-|\n",
    "| and | et | True and True | True | False and True | False |\n",
    "| or | ou inclusif | True or True | True | False or True | True |\n",
    "| not | négation | not True | False | not False | True |"
   ]
  },
  {
   "cell_type": "markdown",
   "id": "4f2d5d98",
   "metadata": {},
   "source": [
    "On peut bien évidemment :\n",
    "- remplacer _True_ et _False_ par n'importe quelle expression booléenne\n",
    "- combiner ces opérateurs"
   ]
  },
  {
   "cell_type": "code",
   "execution_count": null,
   "id": "c95ac38d",
   "metadata": {},
   "outputs": [],
   "source": [
    "print('\"a\" < \"b\" and \"b\" < \"c\" ?', \"a\" < \"b\" and \"b\" < \"c\")\n",
    "print('\"a\" < \"b\" and \"c\" < \"b\" ?', \"a\" < \"b\" and \"c\" < \"b\")\n",
    "print('\"a\" < \"b\" or \"c\" < \"b\" ?', \"a\" < \"b\" or \"c\" < \"b\")\n",
    "print('\"a\" < \"b\" and not \"c\" < \"b\" ?', \"a\" < \"b\" and not \"c\" < \"b\")"
   ]
  },
  {
   "cell_type": "markdown",
   "id": "29288869",
   "metadata": {
    "slideshow": {
     "slide_type": "slide"
    }
   },
   "source": [
    "# Opérateurs mathématiques "
   ]
  },
  {
   "cell_type": "markdown",
   "id": "79d12ebf",
   "metadata": {
    "slideshow": {
     "slide_type": "-"
    }
   },
   "source": [
    "Prend deux valeurs et donne une nouvelle valeur en retour.\n",
    "\n",
    "Contrairement aux opérateurs booléens, on ne renvoie ici pas de valeurs booléennes, mais un type qui dépend des valeurs données et de l'opérateur utilisé."
   ]
  },
  {
   "cell_type": "markdown",
   "id": "1ccaa4c7",
   "metadata": {
    "slideshow": {
     "slide_type": "-"
    }
   },
   "source": [
    "| opérateur | signification |\n",
    "|-|-|\n",
    "| + | addition (ajout) |\n",
    "| - | soustraction |\n",
    "| * | multiplication |\n",
    "| / | division |\n",
    "| ** | exposant (\"puissance\") |\n",
    "| % | modulo (reste positif de la division) |"
   ]
  },
  {
   "cell_type": "markdown",
   "id": "d363a670",
   "metadata": {
    "slideshow": {
     "slide_type": "subslide"
    }
   },
   "source": [
    "## + : l'Addition"
   ]
  },
  {
   "cell_type": "markdown",
   "id": "add00b38",
   "metadata": {
    "slideshow": {
     "slide_type": "-"
    }
   },
   "source": [
    "Peut s'interpréter de différentes façon selon les types concernés. Le résultat est toujours logique et le plus simple."
   ]
  },
  {
   "cell_type": "code",
   "execution_count": null,
   "id": "8d64c20b",
   "metadata": {
    "slideshow": {
     "slide_type": "-"
    }
   },
   "outputs": [],
   "source": [
    "print(\"5 + 5 =\", 5 + 5)\n",
    "print(\"5.0 + 5.0 =\", 5.0 + 5.0)\n",
    "print(\"5 + 5.0 =\", 5 + 5.0)\n",
    "print(\"5.0 + 5 =\", 5.0 + 5)\n",
    "print('\"anti\" + \"tussif\" =', \"anti\" + \"tussif\")"
   ]
  },
  {
   "cell_type": "markdown",
   "id": "b05d2b72",
   "metadata": {
    "slideshow": {
     "slide_type": "fragment"
    }
   },
   "source": [
    "On peut avoir des types différents, mais seulement si c'est logique. Les exemples suivants plantent et python en indique la raison :"
   ]
  },
  {
   "cell_type": "code",
   "execution_count": null,
   "id": "c550a487",
   "metadata": {
    "slideshow": {
     "slide_type": "-"
    }
   },
   "outputs": [],
   "source": [
    "print('5 + \"tussif\" =', 5 + \"tussif\")"
   ]
  },
  {
   "cell_type": "code",
   "execution_count": null,
   "id": "42e91918",
   "metadata": {
    "scrolled": true,
    "slideshow": {
     "slide_type": "-"
    }
   },
   "outputs": [],
   "source": [
    "print('5 + \"5\" =', 5 + \"5\")"
   ]
  },
  {
   "cell_type": "markdown",
   "id": "83a315ed",
   "metadata": {
    "slideshow": {
     "slide_type": "subslide"
    }
   },
   "source": [
    "## - : la soustraction"
   ]
  },
  {
   "cell_type": "markdown",
   "id": "52e396ed",
   "metadata": {
    "slideshow": {
     "slide_type": "-"
    }
   },
   "source": [
    "Plus restrictive que l'addition, s'interprète uniquement pour des nombres :"
   ]
  },
  {
   "cell_type": "code",
   "execution_count": null,
   "id": "28cd99b2",
   "metadata": {
    "slideshow": {
     "slide_type": "-"
    }
   },
   "outputs": [],
   "source": [
    "print(\"5 - 5 =\", 5 - 5)\n",
    "print(\"5.0 - 5.0 =\", 5.0 - 5.0)\n",
    "print(\"5 - 5.0 =\", 5 - 5.0)\n",
    "print(\"5.0 - 5 =\", 5.0 - 5)"
   ]
  },
  {
   "cell_type": "markdown",
   "id": "ccc99099",
   "metadata": {
    "slideshow": {
     "slide_type": "fragment"
    }
   },
   "source": [
    "La soustraction ne s'applique pas aux `str`, contrairement à l'addition :"
   ]
  },
  {
   "cell_type": "code",
   "execution_count": null,
   "id": "4a65d5f9",
   "metadata": {
    "slideshow": {
     "slide_type": "-"
    }
   },
   "outputs": [],
   "source": [
    "print('\"anti\" - \"tussif\" =', \"anti\" - \"tussif\")"
   ]
  },
  {
   "cell_type": "markdown",
   "id": "214619df",
   "metadata": {
    "slideshow": {
     "slide_type": "subslide"
    }
   },
   "source": [
    "## * : La multiplication"
   ]
  },
  {
   "cell_type": "markdown",
   "id": "f81990c3",
   "metadata": {
    "slideshow": {
     "slide_type": "-"
    }
   },
   "source": [
    "Peut s'interpréter de différentes façon selon les types concernés. Le résultat est toujours logique et le plus simple."
   ]
  },
  {
   "cell_type": "code",
   "execution_count": null,
   "id": "91e8410e",
   "metadata": {
    "slideshow": {
     "slide_type": "-"
    }
   },
   "outputs": [],
   "source": [
    "print(\"5 * 5 =\", 5 * 5)\n",
    "print(\"5.0 * 5.0 =\", 5.0 * 5.0)\n",
    "print(\"5 * 5.0 =\", 5 * 5.0)\n",
    "print(\"5.0 * 5 =\", 5.0 * 5)\n",
    "print('5 * \"na\" =', 5 * \"na\")\n",
    "print('\"na\" * 5 =', \"na\" * 5)"
   ]
  },
  {
   "cell_type": "markdown",
   "id": "04e981a8",
   "metadata": {
    "slideshow": {
     "slide_type": "fragment"
    }
   },
   "source": [
    "Il faut cependant que cela fasse du sens :"
   ]
  },
  {
   "cell_type": "code",
   "execution_count": null,
   "id": "a8facd89",
   "metadata": {
    "slideshow": {
     "slide_type": "-"
    }
   },
   "outputs": [],
   "source": [
    "print('\"anti\" * \"tussif\" =', \"anti\" * \"tussif\")"
   ]
  },
  {
   "cell_type": "markdown",
   "id": "98d382a2",
   "metadata": {
    "slideshow": {
     "slide_type": "subslide"
    }
   },
   "source": [
    "## / et // : la division et la division entière"
   ]
  },
  {
   "cell_type": "markdown",
   "id": "94b6aadf",
   "metadata": {
    "slideshow": {
     "slide_type": "-"
    }
   },
   "source": [
    "Ne s'applique qu'aux types numériques (entiers, réels). Le résultat est toujours un réel :"
   ]
  },
  {
   "cell_type": "code",
   "execution_count": null,
   "id": "803da9cc",
   "metadata": {
    "slideshow": {
     "slide_type": "-"
    }
   },
   "outputs": [],
   "source": [
    "print(\"5 / 2 =\", 5 / 2)\n",
    "print(\"5.0 / 2.0 =\", 5.0 / 2.0)\n",
    "print(\"5 / 2.0 =\", 5 / 2.0)\n",
    "print(\"5.0 / 2 =\", 5.0 / 2)"
   ]
  },
  {
   "cell_type": "markdown",
   "id": "b59790c6",
   "metadata": {
    "slideshow": {
     "slide_type": "fragment"
    }
   },
   "source": [
    "Pour avoir un résultat \"rond\", on utilise la division entière `//`.\n",
    "\n",
    "Notez qu'on a des différences de type selon les types des nombres utilisés. Néamnoins, tous peuvent être convertis vers un entier :"
   ]
  },
  {
   "cell_type": "code",
   "execution_count": null,
   "id": "35971987",
   "metadata": {
    "slideshow": {
     "slide_type": "-"
    }
   },
   "outputs": [],
   "source": [
    "print(\"5 // 2 =\", 5 // 2)\n",
    "print(\"5.0 // 2.0 =\", 5.0 // 2.0)\n",
    "print(\"5 // 2.0 =\", 5 // 2.0)\n",
    "print(\"5.0 // 2 =\", 5.0 // 2)"
   ]
  },
  {
   "cell_type": "markdown",
   "id": "f13fd2cc",
   "metadata": {
    "slideshow": {
     "slide_type": "subslide"
    }
   },
   "source": [
    "## ** : l'exposant (\"puissance\")"
   ]
  },
  {
   "cell_type": "markdown",
   "id": "2f1c782e",
   "metadata": {
    "slideshow": {
     "slide_type": "-"
    }
   },
   "source": [
    "$x^{n}$, où x et n sont des nombres :"
   ]
  },
  {
   "cell_type": "code",
   "execution_count": null,
   "id": "93031875",
   "metadata": {
    "slideshow": {
     "slide_type": "-"
    }
   },
   "outputs": [],
   "source": [
    "print(\"5**2 =\", 5**2)\n",
    "print(\"5**2.0 =\", 5**2.0)\n",
    "print(\"5**2 =\", 5.0**2)\n",
    "print(\"25**(1/2) =\", 25**(1/2))\n",
    "print(\"25**0.25 =\", 25**0.5)"
   ]
  },
  {
   "cell_type": "markdown",
   "id": "a5146874",
   "metadata": {
    "slideshow": {
     "slide_type": "subslide"
    }
   },
   "source": [
    "## % : le modulo"
   ]
  },
  {
   "cell_type": "markdown",
   "id": "bda5f184",
   "metadata": {
    "slideshow": {
     "slide_type": "-"
    }
   },
   "source": [
    "Permet d'obtenir le reste de la division :"
   ]
  },
  {
   "cell_type": "code",
   "execution_count": null,
   "id": "242084a7",
   "metadata": {},
   "outputs": [],
   "source": [
    "print(\"10 % 2 = \", 11 % 2)\n",
    "print(\"11 % 2 = \", 11 % 2)\n",
    "print(\"11 % 3 = \", 11 % 3)"
   ]
  },
  {
   "cell_type": "markdown",
   "id": "4ce1ab55",
   "metadata": {
    "slideshow": {
     "slide_type": "-"
    }
   },
   "source": [
    "On peut s'en servir pour savoir si un nombre est un multiple d'un autre."
   ]
  },
  {
   "cell_type": "code",
   "execution_count": null,
   "id": "46b06db0",
   "metadata": {
    "slideshow": {
     "slide_type": "-"
    }
   },
   "outputs": [],
   "source": [
    "print(\"27 divisé par 4 vaut\", 27 // 4, \"reste\", 27 % 4)\n",
    "print(\"6 * 4 + 3 == 27 ?\", 6 * 4 + 3 == 27)"
   ]
  },
  {
   "cell_type": "markdown",
   "id": "aa062023",
   "metadata": {
    "scrolled": true,
    "slideshow": {
     "slide_type": "fragment"
    }
   },
   "source": [
    "On sait donc qu'un nombre en divise un autre si le reste est à 0."
   ]
  },
  {
   "cell_type": "code",
   "execution_count": null,
   "id": "2d064d39",
   "metadata": {
    "slideshow": {
     "slide_type": "-"
    }
   },
   "outputs": [],
   "source": [
    "print(\"4 % 2 =\", 4 % 2)\n",
    "print(\"5 % 2 =\", 5 % 2)\n",
    "print(\"27 % 3 =\", 27 % 3)\n",
    "print(\"27 % 9 =\", 27 % 9)"
   ]
  },
  {
   "cell_type": "markdown",
   "id": "92ed463a",
   "metadata": {
    "slideshow": {
     "slide_type": "subslide"
    }
   },
   "source": [
    "## Affectations augmentées"
   ]
  },
  {
   "cell_type": "markdown",
   "id": "17da29c1",
   "metadata": {
    "slideshow": {
     "slide_type": "-"
    }
   },
   "source": [
    "Ces opérateurs peuvent \"augmenter\" une affectation (on parle aussi d’affectation [en-place](https://docs.python.org/fr/3/library/operator.html#in-place-operators)).\n",
    "\n",
    "Les deux cellules suivantes font la même chose :"
   ]
  },
  {
   "cell_type": "code",
   "execution_count": null,
   "id": "23a77844",
   "metadata": {
    "slideshow": {
     "slide_type": "-"
    }
   },
   "outputs": [],
   "source": [
    "nombre = 3\n",
    "nombre = nombre + 1\n",
    "nombre = nombre * 3\n",
    "nombre = nombre / 2\n",
    "print(nombre)"
   ]
  },
  {
   "cell_type": "code",
   "execution_count": null,
   "id": "ae42e62f",
   "metadata": {
    "slideshow": {
     "slide_type": "-"
    }
   },
   "outputs": [],
   "source": [
    "nombre = 3\n",
    "nombre += 1\n",
    "nombre *= 3\n",
    "nombre /= 2\n",
    "print(nombre)"
   ]
  }
 ],
 "metadata": {
  "celltoolbar": "Slideshow",
  "kernelspec": {
   "display_name": "Python 3 (ipykernel)",
   "language": "python",
   "name": "python3"
  },
  "language_info": {
   "codemirror_mode": {
    "name": "ipython",
    "version": 3
   },
   "file_extension": ".py",
   "mimetype": "text/x-python",
   "name": "python",
   "nbconvert_exporter": "python",
   "pygments_lexer": "ipython3",
   "version": "3.10.8"
  },
  "livereveal": {
   "autolaunch": true,
   "scroll": true,
   "transition": "none"
  }
 },
 "nbformat": 4,
 "nbformat_minor": 5
}
