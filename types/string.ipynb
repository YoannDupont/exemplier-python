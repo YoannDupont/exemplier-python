{
 "cells": [
  {
   "cell_type": "markdown",
   "id": "a4c705b1",
   "metadata": {
    "slideshow": {
     "slide_type": "slide"
    }
   },
   "source": [
    "# Exemplier python\n",
    "\n",
    "## Chaînes de caractères\n",
    "\n",
    "### Notes\n",
    "\n",
    "- Les valeurs affichées par `print` peuvent également se stocker dans une variable\n",
    "- Pour entrer dans une cellule de code, on appuie sur entrée ou on double-clic dessus.\n",
    "- Pour exécuter une cellule de code, appuyer sur shift+entrée.\n",
    "- Pour passer à la slide suivante, utiliser la touche espace.\n",
    "- Pour passer à la slide précédente, appuyer sur shift+espace."
   ]
  },
  {
   "cell_type": "markdown",
   "id": "77afc1a9",
   "metadata": {
    "slideshow": {
     "slide_type": "slide"
    }
   },
   "source": [
    "## Déclarer une chaîne"
   ]
  },
  {
   "cell_type": "code",
   "execution_count": null,
   "id": "d3db46bd",
   "metadata": {
    "slideshow": {
     "slide_type": "subslide"
    }
   },
   "outputs": [],
   "source": [
    "print(\"Une chaîne peut être entre guillemets doubles\")"
   ]
  },
  {
   "cell_type": "code",
   "execution_count": null,
   "id": "d3da899d",
   "metadata": {
    "slideshow": {
     "slide_type": "-"
    }
   },
   "outputs": [],
   "source": [
    "print('Une chaîne peut aussi être entre apostrophes (guillemets simples)')"
   ]
  },
  {
   "cell_type": "code",
   "execution_count": null,
   "id": "0450e28e",
   "metadata": {
    "slideshow": {
     "slide_type": "-"
    }
   },
   "outputs": [],
   "source": [
    "print(\"On peut écrire l'apostrophe dans une chaîne entre guillemets.\")"
   ]
  },
  {
   "cell_type": "code",
   "execution_count": null,
   "id": "c3d9cfb2",
   "metadata": {
    "slideshow": {
     "slide_type": "-"
    }
   },
   "outputs": [],
   "source": [
    "print('On peut écrire les \"guillemets\" dans une chaîne entre apostrophes.')"
   ]
  },
  {
   "cell_type": "code",
   "execution_count": null,
   "id": "52ec4ffc",
   "metadata": {
    "slideshow": {
     "slide_type": "-"
    }
   },
   "outputs": [],
   "source": [
    "print(\"On peut coller des chaînes les unes aux autres avec +\")\n",
    "print(\"anti-\" + \"inflammat\" + \"oire\")"
   ]
  },
  {
   "cell_type": "markdown",
   "id": "628623ee",
   "metadata": {
    "slideshow": {
     "slide_type": "subslide"
    }
   },
   "source": [
    "### Erreurs de syntaxe : les guillemets"
   ]
  },
  {
   "cell_type": "code",
   "execution_count": null,
   "id": "a301af6b",
   "metadata": {
    "slideshow": {
     "slide_type": "-"
    }
   },
   "outputs": [],
   "source": [
    "str_erreur_1 = \"Attention aux guillemets : cette chaîne produit une \"erreur\".\""
   ]
  },
  {
   "cell_type": "code",
   "execution_count": null,
   "id": "16f19334",
   "metadata": {
    "slideshow": {
     "slide_type": "-"
    }
   },
   "outputs": [],
   "source": [
    "print(\"Pour corriger ce problème, on utilise le backslash : cette chaîne ne produit pas d'\\\"erreur\\\".\")"
   ]
  },
  {
   "cell_type": "code",
   "execution_count": null,
   "id": "184cc681",
   "metadata": {
    "slideshow": {
     "slide_type": "-"
    }
   },
   "outputs": [],
   "source": [
    "print('La même logique s\\'applique avec les apostrophes.')"
   ]
  },
  {
   "cell_type": "markdown",
   "id": "c27fb8d3",
   "metadata": {
    "slideshow": {
     "slide_type": "subslide"
    }
   },
   "source": [
    "### Les caractères spéciaux\n",
    "\n",
    "La notation avec `\\` permet d'écrire d'autres caractères qu'il serait difficile à écrire simplement."
   ]
  },
  {
   "cell_type": "code",
   "execution_count": null,
   "id": "257d2625",
   "metadata": {
    "slideshow": {
     "slide_type": "-"
    }
   },
   "outputs": [],
   "source": [
    "print('On peut aller à la ligne suivante avec le caractère \"new line\" :\\nTada !')"
   ]
  },
  {
   "cell_type": "code",
   "execution_count": null,
   "id": "fb724c09",
   "metadata": {
    "slideshow": {
     "slide_type": "-"
    }
   },
   "outputs": [],
   "source": [
    "print(\"On peut aficher une tabulation avec\\tTada !\")"
   ]
  },
  {
   "cell_type": "code",
   "execution_count": null,
   "id": "f6116e0f",
   "metadata": {
    "slideshow": {
     "slide_type": "-"
    }
   },
   "outputs": [],
   "source": [
    "print(\"Et pour écrire l'antislash qui sert à écrire les autres : \\\\\")"
   ]
  },
  {
   "cell_type": "markdown",
   "id": "c0c568b7",
   "metadata": {
    "slideshow": {
     "slide_type": "-"
    }
   },
   "source": [
    "D'autres exemples existent, on restera sur les bases..."
   ]
  },
  {
   "cell_type": "markdown",
   "id": "5ece3f3c",
   "metadata": {
    "slideshow": {
     "slide_type": "subslide"
    }
   },
   "source": [
    "### Erreurs de syntaxe : les chaînes multilignes"
   ]
  },
  {
   "cell_type": "code",
   "execution_count": null,
   "id": "64a48f9b",
   "metadata": {
    "slideshow": {
     "slide_type": "-"
    }
   },
   "outputs": [],
   "source": [
    "str_erreur_2 = \"une chaîne se déclare sur une seule ligne\n",
    "on a une erreur à cette ligne\""
   ]
  },
  {
   "cell_type": "code",
   "execution_count": null,
   "id": "a95541fd",
   "metadata": {
    "slideshow": {
     "slide_type": "-"
    }
   },
   "outputs": [],
   "source": [
    "print(\"Pour avoir plusieurs lignes,\\non ajoute un retour à la ligne\")"
   ]
  },
  {
   "cell_type": "code",
   "execution_count": null,
   "id": "550742f8",
   "metadata": {
    "slideshow": {
     "slide_type": "-"
    }
   },
   "outputs": [],
   "source": [
    "print(\"\"\"On peut également avoir plusieurs lignes en utilisant :\n",
    "\n",
    "1. les triples guillemets : \\\"\\\"\\\" ;\n",
    "2. les triples apostrophes : '''.\"\"\")"
   ]
  },
  {
   "cell_type": "markdown",
   "id": "32fc4c36",
   "metadata": {
    "slideshow": {
     "slide_type": "slide"
    }
   },
   "source": [
    "## Opérations de base"
   ]
  },
  {
   "cell_type": "markdown",
   "id": "94b49dcd",
   "metadata": {
    "slideshow": {
     "slide_type": "subslide"
    }
   },
   "source": [
    "### Passage caractère <--> entier\n",
    "\n",
    "À chaque caractère correspond un nombre entier appelé point de code. On peut passer de l'un à l'autre avec les foncitons `ord` et `chr`"
   ]
  },
  {
   "cell_type": "code",
   "execution_count": null,
   "id": "d73cb79e",
   "metadata": {
    "slideshow": {
     "slide_type": "-"
    }
   },
   "outputs": [],
   "source": [
    "print(ord('A'), ord('Z'), ord('a'), ord('z'))"
   ]
  },
  {
   "cell_type": "code",
   "execution_count": null,
   "id": "389dba51",
   "metadata": {
    "slideshow": {
     "slide_type": "-"
    }
   },
   "outputs": [],
   "source": [
    "print(chr(65), chr(90), chr(97), chr(122))"
   ]
  },
  {
   "cell_type": "code",
   "execution_count": null,
   "id": "a1af42bb",
   "metadata": {
    "slideshow": {
     "slide_type": "-"
    }
   },
   "outputs": [],
   "source": [
    "print(ord(chr(65)), ord(chr(90)), ord(chr(97)), ord(chr(122)))"
   ]
  },
  {
   "cell_type": "code",
   "execution_count": null,
   "id": "5327bcf3",
   "metadata": {
    "scrolled": true,
    "slideshow": {
     "slide_type": "-"
    }
   },
   "outputs": [],
   "source": [
    "print(chr(ord('A')), chr(ord('Z')), chr(ord('a')), chr(ord('z')))"
   ]
  },
  {
   "cell_type": "markdown",
   "id": "c1a3354c",
   "metadata": {
    "slideshow": {
     "slide_type": "subslide"
    }
   },
   "source": [
    "### Taille d'une chaîne\n",
    "\n",
    "La taille d'une str s'obtient avec la fonction `len`"
   ]
  },
  {
   "cell_type": "code",
   "execution_count": null,
   "id": "a5df38fc",
   "metadata": {
    "slideshow": {
     "slide_type": "-"
    }
   },
   "outputs": [],
   "source": [
    "str_exemple_taille = \"Je suis un exemple.\"\n",
    "taille = len(str_exemple_taille)\n",
    "print(repr(str_exemple_taille), \"a une taille de\", taille, \"caractères.\")"
   ]
  },
  {
   "cell_type": "code",
   "execution_count": null,
   "id": "aaa2154a",
   "metadata": {
    "slideshow": {
     "slide_type": "-"
    }
   },
   "outputs": [],
   "source": [
    "print(len(\"\\n\"))"
   ]
  },
  {
   "cell_type": "markdown",
   "id": "d70498ca",
   "metadata": {
    "slideshow": {
     "slide_type": "subslide"
    }
   },
   "source": [
    "### Indexation - 1 caractère\n",
    "\n",
    "On peut accéder au n-ième caractère d'une chaîne avec la notation `[int]` :\n",
    "- le 1er caractère d'une chaîne est à l'indice `0`\n",
    "- le dernier caractère d'une chaîne est à l'indice `len(chaîne)-1`"
   ]
  },
  {
   "cell_type": "code",
   "execution_count": null,
   "id": "76a9e58d",
   "metadata": {
    "slideshow": {
     "slide_type": "-"
    }
   },
   "outputs": [],
   "source": [
    "indexation_1 = \"antitussif\"\n",
    "print(indexation_1[0])\n",
    "print(indexation_1[len(indexation_1) - 1])\n",
    "print(indexation_1[5])\n",
    "print(indexation_1[9])"
   ]
  },
  {
   "cell_type": "markdown",
   "id": "1c8f6a5c",
   "metadata": {
    "slideshow": {
     "slide_type": "subslide"
    }
   },
   "source": [
    "### Indexation - morceaux de chaînes\n",
    "\n",
    "On peut accéder à un morceau d'une chaîne (appelé tranche) avec la notation `[int:int]` :\n",
    "- on va de l'indice à gauche jusqu'à l'indice à droite moins 1.\n",
    "- les valeurs non renseignées sont remplacées par les extrémitées de la chaîne\n",
    "- `chaine[:]` est équivalent à `chaine[0: len(chaine)-1]`"
   ]
  },
  {
   "cell_type": "code",
   "execution_count": null,
   "id": "e51ea5d4",
   "metadata": {
    "slideshow": {
     "slide_type": "-"
    }
   },
   "outputs": [],
   "source": [
    "indexation_1 = \"antitussif\"\n",
    "print(indexation_1[:4])\n",
    "print(indexation_1[-2:])"
   ]
  },
  {
   "cell_type": "markdown",
   "id": "c0af8818",
   "metadata": {
    "slideshow": {
     "slide_type": "slide"
    }
   },
   "source": [
    "## Méthodes de str\n",
    "\n",
    "Les méthodes exempliées ici peuvent être utilisées sur des valeurs ou des variables.\n",
    "\n",
    "Une variable, c'est juste une valeur à qui on donne un nom qui permet de s'en souvenir.\n",
    "\n",
    "### Syntaxe des méthodes str\n",
    "\n",
    "`str.function` ou `str` est une valeur ou une variable, et `function` une fonction : "
   ]
  },
  {
   "cell_type": "code",
   "execution_count": null,
   "id": "4bcc90bc",
   "metadata": {},
   "outputs": [],
   "source": [
    "value_vs_variable = \"bonjour\"\n",
    "print(\"bonjour\".upper())\n",
    "print(value_vs_variable.upper())\n",
    "print(\"bonjour\".upper().count(\"O\"))\n",
    "print(value_vs_variable.upper().count(\"O\"))"
   ]
  },
  {
   "cell_type": "markdown",
   "id": "e46ac822",
   "metadata": {
    "slideshow": {
     "slide_type": "subslide"
    }
   },
   "source": [
    "### Gérer la casse"
   ]
  },
  {
   "cell_type": "code",
   "execution_count": null,
   "id": "1a272445",
   "metadata": {
    "slideshow": {
     "slide_type": "-"
    }
   },
   "outputs": [],
   "source": [
    "print(\"str.upper met en majuscules :\")\n",
    "print(\"BoNjOuR !\".upper())"
   ]
  },
  {
   "cell_type": "code",
   "execution_count": null,
   "id": "f83fc348",
   "metadata": {
    "slideshow": {
     "slide_type": "-"
    }
   },
   "outputs": [],
   "source": [
    "print(\"str.lower met en minuscules :\")\n",
    "print(\"BoNjOuR !\".lower())"
   ]
  },
  {
   "cell_type": "code",
   "execution_count": null,
   "id": "4fb6d289",
   "metadata": {
    "slideshow": {
     "slide_type": "-"
    }
   },
   "outputs": [],
   "source": [
    "print(\"str.casefold permet de faire des comparaisons en ignorant la casse.\")\n",
    "print(\"Différence avec lower ou upper :\")\n",
    "print(\"Straße\".lower(), \"==\", \"STRASSE\".lower(), \"?\", \"Straße\".lower() == \"STRASSE\".lower())\n",
    "print(\"Straße\".casefold(), \"==\", \"STRASSE\".casefold(), \"?\", \"Straße\".casefold() == \"STRASSE\".casefold())"
   ]
  },
  {
   "cell_type": "markdown",
   "id": "d3097c7e",
   "metadata": {
    "slideshow": {
     "slide_type": "subslide"
    }
   },
   "source": [
    "### Les classes de caractères -- la casse"
   ]
  },
  {
   "cell_type": "code",
   "execution_count": null,
   "id": "4c5e8121",
   "metadata": {
    "slideshow": {
     "slide_type": "-"
    }
   },
   "outputs": [],
   "source": [
    "print(\"je n'ai aucune majuscule, mais j'ai aussi 2-3 caractères non alphabétiques\".islower())"
   ]
  },
  {
   "cell_type": "code",
   "execution_count": null,
   "id": "f97e8c72",
   "metadata": {
    "slideshow": {
     "slide_type": "-"
    }
   },
   "outputs": [],
   "source": [
    "print(\"JE N'AI AUCUNE MINUSCULES, MAIS J'AI AUSSI 2-3 CARACTÈRES NON ALPHABÉTIQUES\".isupper())"
   ]
  },
  {
   "cell_type": "markdown",
   "id": "f1793ca7",
   "metadata": {
    "slideshow": {
     "slide_type": "subslide"
    }
   },
   "source": [
    "### Les classes de caractères -- les classes générales"
   ]
  },
  {
   "cell_type": "code",
   "execution_count": null,
   "id": "75e535c0",
   "metadata": {
    "slideshow": {
     "slide_type": "-"
    }
   },
   "outputs": [],
   "source": [
    "print(\"Poêle\".isalpha())\n",
    "print(\"Poêle à frire\".isalpha())\n",
    "print(\"άλφα\".isalpha())"
   ]
  },
  {
   "cell_type": "code",
   "execution_count": null,
   "id": "8d4ad375",
   "metadata": {
    "slideshow": {
     "slide_type": "-"
    }
   },
   "outputs": [],
   "source": [
    "print(\"¼\".isnumeric())\n",
    "print(\"²\".isnumeric())\n",
    "print(\"2\".isnumeric())"
   ]
  },
  {
   "cell_type": "code",
   "execution_count": null,
   "id": "b9822659",
   "metadata": {
    "slideshow": {
     "slide_type": "-"
    }
   },
   "outputs": [],
   "source": [
    "print(\"Poêle\".isalnum())\n",
    "print(\"¼\".isalnum())\n",
    "print(\"2k²\".isalnum())"
   ]
  },
  {
   "cell_type": "code",
   "execution_count": null,
   "id": "b49dceb6",
   "metadata": {
    "slideshow": {
     "slide_type": "-"
    }
   },
   "outputs": [],
   "source": [
    "print(\" \\t    \\t \".isspace())"
   ]
  },
  {
   "cell_type": "markdown",
   "id": "1254e17f",
   "metadata": {
    "slideshow": {
     "slide_type": "subslide"
    }
   },
   "source": [
    "### Les classes de caractères -- différents types de nombres"
   ]
  },
  {
   "cell_type": "code",
   "execution_count": null,
   "id": "953ea99f",
   "metadata": {
    "slideshow": {
     "slide_type": "-"
    }
   },
   "outputs": [],
   "source": [
    "print(\"¼\".isnumeric())\n",
    "print(\"²\".isnumeric())\n",
    "print(\"2\".isnumeric())"
   ]
  },
  {
   "cell_type": "code",
   "execution_count": null,
   "id": "298bbc20",
   "metadata": {
    "slideshow": {
     "slide_type": "-"
    }
   },
   "outputs": [],
   "source": [
    "print(\"¼\".isdigit())\n",
    "print(\"²\".isdigit())\n",
    "print(\"2\".isdigit())"
   ]
  },
  {
   "cell_type": "code",
   "execution_count": null,
   "id": "2189ba4e",
   "metadata": {
    "slideshow": {
     "slide_type": "-"
    }
   },
   "outputs": [],
   "source": [
    "print(\"¼\".isdecimal())\n",
    "print(\"²\".isdecimal())\n",
    "print(\"2\".isdecimal())"
   ]
  },
  {
   "cell_type": "markdown",
   "id": "250d6479",
   "metadata": {
    "slideshow": {
     "slide_type": "slide"
    }
   },
   "source": [
    "## Observer une chaîne"
   ]
  },
  {
   "cell_type": "markdown",
   "id": "f3db6d52",
   "metadata": {
    "slideshow": {
     "slide_type": "subslide"
    }
   },
   "source": [
    "### Localiser"
   ]
  },
  {
   "cell_type": "code",
   "execution_count": null,
   "id": "6747f571",
   "metadata": {
    "slideshow": {
     "slide_type": "-"
    }
   },
   "outputs": [],
   "source": [
    "localiser_exemple = \"Bonnet blanc, blanc bonnet\"\n",
    "print(localiser_exemple.index(\"Bonnet\"), localiser_exemple[localiser_exemple.find(\"Bonnet\"):])\n",
    "print(localiser_exemple.index(\"bonnet\"), localiser_exemple[localiser_exemple.find(\"bonnet\"):])\n",
    "print(localiser_exemple.index(\"blanc\"), localiser_exemple[localiser_exemple.find(\"blanc\"):])"
   ]
  },
  {
   "cell_type": "code",
   "execution_count": null,
   "id": "2a3d3f77",
   "metadata": {
    "slideshow": {
     "slide_type": "-"
    }
   },
   "outputs": [],
   "source": [
    "print(\"Le chat dort.\".find(\"chien\"))"
   ]
  },
  {
   "cell_type": "markdown",
   "id": "59501859",
   "metadata": {
    "slideshow": {
     "slide_type": "subslide"
    }
   },
   "source": [
    "### Attester dans une chaîne"
   ]
  },
  {
   "cell_type": "code",
   "execution_count": null,
   "id": "f6da8419",
   "metadata": {
    "slideshow": {
     "slide_type": "-"
    }
   },
   "outputs": [],
   "source": [
    "print(\"chat\" in \"Le chat dort.\")\n",
    "print(\"chien\" in \"Le chat dort.\")"
   ]
  },
  {
   "cell_type": "code",
   "execution_count": null,
   "id": "47b8e3de",
   "metadata": {},
   "outputs": [],
   "source": [
    "print(\"Le chat dort.\".find(\"chat\") != -1)\n",
    "print(\"Le chat dort.\".find(\"chien\") != -1)"
   ]
  },
  {
   "cell_type": "markdown",
   "id": "b2b8d4d9",
   "metadata": {
    "slideshow": {
     "slide_type": "subslide"
    }
   },
   "source": [
    "### Compter"
   ]
  },
  {
   "cell_type": "code",
   "execution_count": null,
   "id": "21eb65b9",
   "metadata": {
    "slideshow": {
     "slide_type": "-"
    }
   },
   "outputs": [],
   "source": [
    "print(\"Bonnet blanc, blanc bonnet\".count(\"Bonnet\"))\n",
    "print(\"Bonnet blanc, blanc bonnet\".count(\"bonnet\"))\n",
    "print(\"Bonnet blanc, blanc bonnet\".count(\"blanc\"))"
   ]
  },
  {
   "cell_type": "code",
   "execution_count": null,
   "id": "f83abd4c",
   "metadata": {
    "slideshow": {
     "slide_type": "-"
    }
   },
   "outputs": [],
   "source": [
    "compter_exemple_1 = \"Bonnet blanc, blanc bonnet\"\n",
    "print(compter_exemple_1.count(\"blanc\"))\n",
    "print(compter_exemple_1.count(\"blanc\", compter_exemple_1.find(\",\")))"
   ]
  },
  {
   "cell_type": "markdown",
   "id": "07d084a4",
   "metadata": {
    "slideshow": {
     "slide_type": "subslide"
    }
   },
   "source": [
    "### Affixes"
   ]
  },
  {
   "cell_type": "code",
   "execution_count": null,
   "id": "2ea87ada",
   "metadata": {
    "slideshow": {
     "slide_type": "-"
    }
   },
   "outputs": [],
   "source": [
    "affixes_exemple_1 = \"Bonnet blanc, blanc bonnet\"\n",
    "print(affixes_exemple_1.startswith(\"Bonnet\"))\n",
    "print(affixes_exemple_1.startswith(\"Bonnet\", affixes_exemple_1.find(\",\")))"
   ]
  },
  {
   "cell_type": "code",
   "execution_count": null,
   "id": "d180fe7a",
   "metadata": {
    "slideshow": {
     "slide_type": "-"
    }
   },
   "outputs": [],
   "source": [
    "affixes_exemple_1 = \"Bonnet blanc, blanc bonnet\"\n",
    "print(affixes_exemple_1.endswith(\"bonnet\"))\n",
    "print(affixes_exemple_1.endswith(\"bonnet\", 0, affixes_exemple_1.find(\",\")))\n",
    "print(affixes_exemple_1.endswith(\"blanc\", 0, affixes_exemple_1.find(\",\")))"
   ]
  },
  {
   "cell_type": "code",
   "execution_count": null,
   "id": "eafcc108",
   "metadata": {
    "slideshow": {
     "slide_type": "-"
    }
   },
   "outputs": [],
   "source": [
    "affixes_exemple_1 = \"Bonnet blanc, blanc bonnet\"\n",
    "print(affixes_exemple_1[: affixes_exemple_1.find(\",\")].endswith(\"bonnet\"))\n",
    "print(affixes_exemple_1[: affixes_exemple_1.find(\",\")].endswith(\"blanc\"))"
   ]
  },
  {
   "cell_type": "markdown",
   "id": "7d1bd442",
   "metadata": {
    "slideshow": {
     "slide_type": "slide"
    }
   },
   "source": [
    "## Traiter une chaîne"
   ]
  },
  {
   "cell_type": "markdown",
   "id": "af458688",
   "metadata": {
    "slideshow": {
     "slide_type": "subslide"
    }
   },
   "source": [
    "### Remplacer"
   ]
  },
  {
   "cell_type": "code",
   "execution_count": null,
   "id": "65da91d5",
   "metadata": {
    "slideshow": {
     "slide_type": "-"
    }
   },
   "outputs": [],
   "source": [
    "print(\"carottes,2,1.5\")\n",
    "print(\"carottes,2,1.5\".replace(\",\", \"\\t\"))\n",
    "print(\"carottes,2,1.5\".replace(\",\", \"\\t\", 1))"
   ]
  },
  {
   "cell_type": "markdown",
   "id": "5da32e6b",
   "metadata": {
    "slideshow": {
     "slide_type": "subslide"
    }
   },
   "source": [
    "### Découper"
   ]
  },
  {
   "cell_type": "code",
   "execution_count": null,
   "id": "599e8424",
   "metadata": {
    "slideshow": {
     "slide_type": "-"
    }
   },
   "outputs": [],
   "source": [
    "print(\"Bonnet blanc, blanc bonnet.\")\n",
    "print(\"Bonnet blanc, blanc bonnet.\".split(), len(\"Bonnet blanc, blanc bonnet.\".split()))\n",
    "print(\"Bonnet blanc, blanc bonnet.\".split(maxsplit=1), len(\"Bonnet blanc, blanc bonnet.\".split(maxsplit=1)))\n",
    "print(\"Bonnet blanc, blanc bonnet.\".split(\",\"), len(\"Bonnet blanc, blanc bonnet.\".split(\",\")))"
   ]
  },
  {
   "cell_type": "markdown",
   "id": "dbf1316a",
   "metadata": {
    "slideshow": {
     "slide_type": "subslide"
    }
   },
   "source": [
    "### Découper les lignes"
   ]
  },
  {
   "cell_type": "code",
   "execution_count": null,
   "id": "87d2ca64",
   "metadata": {
    "slideshow": {
     "slide_type": "-"
    }
   },
   "outputs": [],
   "source": [
    "decouper_lignes_exemple_1 = \"\"\"Ligne 1\n",
    "\n",
    "ligne 3.\n",
    "\"\"\"\n",
    "\n",
    "print(decouper_lignes_exemple_1.splitlines())\n",
    "print(decouper_lignes_exemple_1.splitlines(keepends=True))"
   ]
  },
  {
   "cell_type": "markdown",
   "id": "a2a2af60",
   "metadata": {
    "slideshow": {
     "slide_type": "subslide"
    }
   },
   "source": [
    "### Élaguer (retirer seulement les bords)"
   ]
  },
  {
   "cell_type": "code",
   "execution_count": null,
   "id": "aa9a4625",
   "metadata": {
    "slideshow": {
     "slide_type": "-"
    }
   },
   "outputs": [],
   "source": [
    "elagage_exemple_1 = \"\\t1 Exemple : titre de l'exemple   \"\n",
    "print(elagage_exemple_1)\n",
    "print(repr(elagage_exemple_1.strip()))\n",
    "print(repr(elagage_exemple_1.lstrip()))\n",
    "print(repr(elagage_exemple_1.rstrip()))"
   ]
  },
  {
   "cell_type": "code",
   "execution_count": null,
   "id": "9ccd0c13",
   "metadata": {
    "slideshow": {
     "slide_type": "-"
    }
   },
   "outputs": [],
   "source": [
    "elagage_exemple_1 = \"\\t1 Exemple : titre de l'exemple   \"\n",
    "print(repr(elagage_exemple_1.lstrip(\"\\t\")))\n",
    "print(repr(elagage_exemple_1.lstrip(\"1234567890\")))\n",
    "print(repr(elagage_exemple_1.lstrip(\"\\t1234567890\")))\n",
    "print(repr(elagage_exemple_1.lstrip(\"\\t 1234567890\")))"
   ]
  },
  {
   "cell_type": "markdown",
   "id": "6f4de893",
   "metadata": {
    "slideshow": {
     "slide_type": "subslide"
    }
   },
   "source": [
    "### Conversions entre listes et chaînes de caractères"
   ]
  },
  {
   "cell_type": "code",
   "execution_count": null,
   "id": "dcd6a417",
   "metadata": {
    "slideshow": {
     "slide_type": "-"
    }
   },
   "outputs": [],
   "source": [
    "decoupe_exemple_1 = \"Bonjour tout le monde !\" .split()\n",
    "decoupe_exemple_2 = \"Salut, ça va ?\" .split(\",\" )\n",
    "print(decoupe_exemple_1)\n",
    "print(decoupe_exemple_2)"
   ]
  },
  {
   "cell_type": "code",
   "execution_count": null,
   "id": "c1b26b04",
   "metadata": {
    "slideshow": {
     "slide_type": "-"
    }
   },
   "outputs": [],
   "source": [
    "recolle_exemple_1 = \"Bonjour tout le monde !\".split()\n",
    "recolle_exemple_2 = \"Salut, ça va ?\".split(\",\")\n",
    "\n",
    "print(recolle_exemple_1, \"=>\", \",\".join(recolle_exemple_1))\n",
    "print(recolle_exemple_2, \"=>\", \"_!_\".join(recolle_exemple_2))"
   ]
  },
  {
   "cell_type": "markdown",
   "id": "236197a1",
   "metadata": {
    "slideshow": {
     "slide_type": "subslide"
    }
   },
   "source": [
    "### Conversions entre listes et chaînes de caractères 2"
   ]
  },
  {
   "cell_type": "code",
   "execution_count": null,
   "id": "b4ada16b",
   "metadata": {
    "slideshow": {
     "slide_type": "-"
    }
   },
   "outputs": [],
   "source": [
    "recolle_exemple_3 = \"Bonjour tout le monde !\"\n",
    "recolle_exemple_4 = \"Salut, ça va ?\"\n",
    "\n",
    "print(\",\".join(recolle_exemple_3.split()))\n",
    "print(\"_!_\".join(recolle_exemple_4.split(\",\")))"
   ]
  }
 ],
 "metadata": {
  "celltoolbar": "Slideshow",
  "kernelspec": {
   "display_name": "Python 3 (ipykernel)",
   "language": "python",
   "name": "python3"
  },
  "language_info": {
   "codemirror_mode": {
    "name": "ipython",
    "version": 3
   },
   "file_extension": ".py",
   "mimetype": "text/x-python",
   "name": "python",
   "nbconvert_exporter": "python",
   "pygments_lexer": "ipython3",
   "version": "3.10.6"
  },
  "livereveal": {
   "autolaunch": true,
   "scroll": true,
   "transition": "none"
  }
 },
 "nbformat": 4,
 "nbformat_minor": 5
}
