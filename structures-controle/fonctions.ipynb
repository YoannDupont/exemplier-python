{
 "cells": [
  {
   "cell_type": "markdown",
   "id": "a4c705b1",
   "metadata": {
    "slideshow": {
     "slide_type": "slide"
    }
   },
   "source": [
    "# Exemplier python\n",
    "\n",
    "## Les fonctions\n",
    "\n",
    "### Notes\n",
    "\n",
    "- Les valeurs affichées par `print` peuvent également se stocker dans une variable\n",
    "- Pour entrer dans une cellule de code, on appuie sur entrée ou on double-clic dessus.\n",
    "- Pour exécuter une cellule de code, appuyer sur shift+entrée.\n",
    "- Pour passer à la slide suivante, utiliser la touche espace.\n",
    "- Pour passer à la slide précédente, appuyer sur shift+espace."
   ]
  },
  {
   "cell_type": "markdown",
   "id": "8a9764c7",
   "metadata": {
    "slideshow": {
     "slide_type": "slide"
    }
   },
   "source": [
    "# Déclarer une fonction"
   ]
  },
  {
   "cell_type": "markdown",
   "id": "7327c502",
   "metadata": {
    "slideshow": {
     "slide_type": "-"
    }
   },
   "source": [
    "Une fonction a un nom et une suite d'instructions.\n",
    "\n",
    "Quand on déclare une fonction, on dit qu'on la `définit`."
   ]
  },
  {
   "cell_type": "markdown",
   "id": "a3dcaec3",
   "metadata": {
    "slideshow": {
     "slide_type": "fragment"
    }
   },
   "source": [
    "Notre première fonction est la plus simple : elle ne fait rien."
   ]
  },
  {
   "cell_type": "code",
   "execution_count": null,
   "id": "10ce607a",
   "metadata": {
    "slideshow": {
     "slide_type": "-"
    }
   },
   "outputs": [],
   "source": [
    "def ma_premiere_fonction():\n",
    "    pass"
   ]
  },
  {
   "cell_type": "markdown",
   "id": "6f63dcc8",
   "metadata": {
    "slideshow": {
     "slide_type": "fragment"
    }
   },
   "source": [
    "- Le mot-clé `def` permet de déclarer une fonction\n",
    "- ici, `ma_premiere_fonction` est son nom\n",
    "- notez qu'on a besoin de `()` après son nom\n",
    "- `:` indique qu'on va dans un bloc, marqué aussi par l'indentation\n",
    "- `pass` est ici le code de la fonction : c'est l'instruction qui ne fait rien"
   ]
  },
  {
   "cell_type": "markdown",
   "id": "edafc739",
   "metadata": {
    "slideshow": {
     "slide_type": "slide"
    }
   },
   "source": [
    "Si on reprend la fonction :"
   ]
  },
  {
   "cell_type": "code",
   "execution_count": null,
   "id": "25487439",
   "metadata": {},
   "outputs": [],
   "source": [
    "def ma_premiere_fonction():\n",
    "    pass"
   ]
  },
  {
   "cell_type": "markdown",
   "id": "adefcd7b",
   "metadata": {
    "slideshow": {
     "slide_type": "-"
    }
   },
   "source": [
    "Une fonction est semblable à une variable :\n",
    "- elle a un nom\n",
    "- elle a une \"valeur\" : sa suite d'instructions"
   ]
  },
  {
   "cell_type": "markdown",
   "id": "bbff9b42",
   "metadata": {
    "slideshow": {
     "slide_type": "fragment"
    }
   },
   "source": [
    "On vient donc de déclarer une fonction qui :\n",
    "- a un nom : `ma_premiere_fonction`\n",
    "- a une \"valeur\" : `pass` (instruction qui ne fait rien)"
   ]
  },
  {
   "cell_type": "markdown",
   "id": "5fca6969",
   "metadata": {
    "slideshow": {
     "slide_type": "slide"
    }
   },
   "source": [
    "# Appeler une fonction"
   ]
  },
  {
   "cell_type": "markdown",
   "id": "f0d2f6f5",
   "metadata": {
    "slideshow": {
     "slide_type": "-"
    }
   },
   "source": [
    "Une fois déclarée, une fonction est accessible, \"prête à l'emploi\". Si on veut s'en servir, il faut l'_appeler_. Une fonction se déclare une fois, mais s'appelle autant de fois qu'on veut :"
   ]
  },
  {
   "cell_type": "code",
   "execution_count": null,
   "id": "8de91235",
   "metadata": {
    "slideshow": {
     "slide_type": "-"
    }
   },
   "outputs": [],
   "source": [
    "ma_premiere_fonction()\n",
    "ma_premiere_fonction()\n",
    "ma_premiere_fonction()"
   ]
  },
  {
   "cell_type": "markdown",
   "id": "20169203",
   "metadata": {
    "slideshow": {
     "slide_type": "fragment"
    }
   },
   "source": [
    "Comme prévu, il ne se passe \"rien\" : la seule instruction de cette fonction est en effet l'instruction pour ne rien faire !\n",
    "\n",
    "Nous verrons bientôt des fonctions qui font des choses."
   ]
  },
  {
   "cell_type": "markdown",
   "id": "7de1d295",
   "metadata": {
    "slideshow": {
     "slide_type": "slide"
    }
   },
   "source": [
    "# Nommage"
   ]
  },
  {
   "cell_type": "markdown",
   "id": "5f5276bc",
   "metadata": {
    "slideshow": {
     "slide_type": "-"
    }
   },
   "source": [
    "C'est à nous de donner un nom et une valeur à une fonction."
   ]
  },
  {
   "cell_type": "code",
   "execution_count": null,
   "id": "6faa93d6",
   "metadata": {
    "slideshow": {
     "slide_type": "fragment"
    }
   },
   "outputs": [],
   "source": [
    "def ma_premiere_fonction():\n",
    "    pass"
   ]
  },
  {
   "cell_type": "code",
   "execution_count": null,
   "id": "ebee61ad",
   "metadata": {},
   "outputs": [],
   "source": [
    "def une_autre_fois():\n",
    "    pass"
   ]
  },
  {
   "cell_type": "code",
   "execution_count": null,
   "id": "01c34c85",
   "metadata": {},
   "outputs": [],
   "source": [
    "def qsjdhzjqdcbujq():\n",
    "    pass"
   ]
  },
  {
   "cell_type": "markdown",
   "id": "2eb096a1",
   "metadata": {
    "slideshow": {
     "slide_type": "fragment"
    }
   },
   "source": [
    "On vient de déclarer trois fonctions qui on un nom différent, mais la même valeur. Elles sont toutes valides :"
   ]
  },
  {
   "cell_type": "code",
   "execution_count": null,
   "id": "baa250ff",
   "metadata": {
    "slideshow": {
     "slide_type": "-"
    }
   },
   "outputs": [],
   "source": [
    "ma_premiere_fonction()\n",
    "une_autre_fois()\n",
    "qsjdhzjqdcbujq()"
   ]
  },
  {
   "cell_type": "markdown",
   "id": "4c897686",
   "metadata": {
    "slideshow": {
     "slide_type": "fragment"
    }
   },
   "source": [
    "On remarque encore une fois qu'il ne se passe \"rien\", comme prévu."
   ]
  },
  {
   "cell_type": "markdown",
   "id": "77329ee8",
   "metadata": {
    "slideshow": {
     "slide_type": "slide"
    }
   },
   "source": [
    "## Des fonctions qui font quelque chose"
   ]
  },
  {
   "cell_type": "markdown",
   "id": "5f96ae54",
   "metadata": {
    "slideshow": {
     "slide_type": "-"
    }
   },
   "source": [
    "Contrairement aux fonctions précédentes, les fonctions suivantes font des choses."
   ]
  },
  {
   "cell_type": "code",
   "execution_count": null,
   "id": "e9a5563a",
   "metadata": {
    "slideshow": {
     "slide_type": "fragment"
    }
   },
   "outputs": [],
   "source": [
    "def doubler():\n",
    "    nombre = 27\n",
    "    nombre = nombre * 2"
   ]
  },
  {
   "cell_type": "code",
   "execution_count": null,
   "id": "2932837c",
   "metadata": {
    "slideshow": {
     "slide_type": "fragment"
    }
   },
   "outputs": [],
   "source": [
    "def majuscule(): # met la première lettre en majuscule\n",
    "    mot = \"la Ligne Verte\"\n",
    "    mot = mot[0].upper() + mot[1:]"
   ]
  },
  {
   "cell_type": "markdown",
   "id": "632151e0",
   "metadata": {
    "slideshow": {
     "slide_type": "slide"
    }
   },
   "source": [
    "On peut alors appeler ces fonctions :"
   ]
  },
  {
   "cell_type": "code",
   "execution_count": null,
   "id": "c6f1b7c9",
   "metadata": {
    "slideshow": {
     "slide_type": "-"
    }
   },
   "outputs": [],
   "source": [
    "doubler()\n",
    "majuscule()"
   ]
  },
  {
   "cell_type": "markdown",
   "id": "4c34f799",
   "metadata": {
    "slideshow": {
     "slide_type": "fragment"
    }
   },
   "source": [
    "Et... Il ne se passe rien ? Pas vraiment : on ne *voit* rien, mais il se *passe* des choses."
   ]
  },
  {
   "cell_type": "markdown",
   "id": "16de7bd3",
   "metadata": {
    "slideshow": {
     "slide_type": "fragment"
    }
   },
   "source": [
    "Afin de mieux voir ce qu'il se passe, il faut arriver à communiquer avec ces fonctions."
   ]
  },
  {
   "cell_type": "markdown",
   "id": "4120e06c",
   "metadata": {
    "slideshow": {
     "slide_type": "slide"
    }
   },
   "source": [
    "# Communiquer avec une fonction"
   ]
  },
  {
   "cell_type": "markdown",
   "id": "b17a9e51",
   "metadata": {
    "slideshow": {
     "slide_type": "slide"
    }
   },
   "source": [
    "## Communiquer depuis une fonction vers l'extérieur : le renvoi"
   ]
  },
  {
   "cell_type": "markdown",
   "id": "759631f2",
   "metadata": {
    "slideshow": {
     "slide_type": "-"
    }
   },
   "source": [
    "De base, une fonction effectue un traitement, mais elle ne communique pas vers l'extérieur. Pour ça, il faut lui demander de fournir le résultat : on appele ça _renvoyer_ le résultat.\n",
    "\n",
    "Une première fonction qui renvoie un résultat : elle renvoie uniquement le nombre 1."
   ]
  },
  {
   "cell_type": "code",
   "execution_count": null,
   "id": "78a0bc29",
   "metadata": {
    "slideshow": {
     "slide_type": "-"
    }
   },
   "outputs": [],
   "source": [
    "def un():\n",
    "    return 1"
   ]
  },
  {
   "cell_type": "markdown",
   "id": "1782dcd1",
   "metadata": {
    "slideshow": {
     "slide_type": "fragment"
    }
   },
   "source": [
    "Quand on renvoie un résultat, on peut alors utiliser cette valeur comme n'importe quelle autre."
   ]
  },
  {
   "cell_type": "code",
   "execution_count": null,
   "id": "09bdad6f",
   "metadata": {
    "slideshow": {
     "slide_type": "-"
    }
   },
   "outputs": [],
   "source": [
    "mon_nombre = un() # un() renvoie une valeur, on peut l'affecter à une variable.\n",
    "print(mon_nombre)"
   ]
  },
  {
   "cell_type": "code",
   "execution_count": null,
   "id": "b801f3cd",
   "metadata": {},
   "outputs": [],
   "source": [
    "# un() renvoie une valeur, on peut l'utiliser comme n'importe quelle autre valeur.\n",
    "print(un())\n",
    "print(1)"
   ]
  },
  {
   "cell_type": "markdown",
   "id": "dabc70bb",
   "metadata": {
    "slideshow": {
     "slide_type": "slide"
    }
   },
   "source": [
    "Reprennons la fonction doubler et faisons-lui renvoyer le nombre :"
   ]
  },
  {
   "cell_type": "code",
   "execution_count": null,
   "id": "56740d9d",
   "metadata": {
    "slideshow": {
     "slide_type": "-"
    }
   },
   "outputs": [],
   "source": [
    "def doubler():\n",
    "    nombre = 27\n",
    "    nombre = nombre * 2\n",
    "    return nombre"
   ]
  },
  {
   "cell_type": "markdown",
   "id": "a63967ff",
   "metadata": {
    "slideshow": {
     "slide_type": "fragment"
    }
   },
   "source": [
    "On remarque qu'on renvoie _nombre_ tel quel après modification, on peut alors simplifier :"
   ]
  },
  {
   "cell_type": "code",
   "execution_count": null,
   "id": "ed04fecd",
   "metadata": {},
   "outputs": [],
   "source": [
    "def doubler():\n",
    "    nombre = 27\n",
    "    return nombre * 2"
   ]
  },
  {
   "cell_type": "markdown",
   "id": "0017a575",
   "metadata": {
    "slideshow": {
     "slide_type": "fragment"
    }
   },
   "source": [
    "Ok, c'est sympa, mais la fonction fait toujours la même chose. Comment on fait si on veut autre chose que 27 ? Réponse tout de suite !"
   ]
  },
  {
   "cell_type": "markdown",
   "id": "b7e51993",
   "metadata": {
    "slideshow": {
     "slide_type": "slide"
    }
   },
   "source": [
    "## Communiquer depuis l'extérieur vers une fonction : les paramètres"
   ]
  },
  {
   "cell_type": "markdown",
   "id": "28700fdb",
   "metadata": {
    "slideshow": {
     "slide_type": "-"
    }
   },
   "source": [
    "On vient de voir qu'on pouvait communiquer **vers** l'extérieur. Mais on peut également communiquer avec une fonction **depuis** de l'extérieur. Reprennons encore la fonction doubler :"
   ]
  },
  {
   "cell_type": "code",
   "execution_count": null,
   "id": "c1fb5752",
   "metadata": {
    "slideshow": {
     "slide_type": "-"
    }
   },
   "outputs": [],
   "source": [
    "def doubler():\n",
    "    nombre = 27\n",
    "    return nombre * 2"
   ]
  },
  {
   "cell_type": "markdown",
   "id": "5683d837",
   "metadata": {
    "slideshow": {
     "slide_type": "fragment"
    }
   },
   "source": [
    "On remarque assez vite qu'elle donnera toujours le même résultat :"
   ]
  },
  {
   "cell_type": "code",
   "execution_count": null,
   "id": "105dacbb",
   "metadata": {
    "slideshow": {
     "slide_type": "-"
    }
   },
   "outputs": [],
   "source": [
    "print(doubler())\n",
    "print(doubler())"
   ]
  },
  {
   "cell_type": "markdown",
   "id": "6c69ae2b",
   "metadata": {
    "slideshow": {
     "slide_type": "fragment"
    }
   },
   "source": [
    "Comment faire en sorte qu'on puisse doubler autre chose que 27 ?"
   ]
  },
  {
   "cell_type": "markdown",
   "id": "c18103b6",
   "metadata": {
    "slideshow": {
     "slide_type": "slide"
    }
   },
   "source": [
    "Pour faire cela, on va tout simplement changer la variable _nombre_ de place. On part de :"
   ]
  },
  {
   "cell_type": "code",
   "execution_count": null,
   "id": "7de7f1f2",
   "metadata": {},
   "outputs": [],
   "source": [
    "def doubler():\n",
    "    nombre = 27\n",
    "    return nombre * 2"
   ]
  },
  {
   "cell_type": "markdown",
   "id": "8dc2a84b",
   "metadata": {
    "slideshow": {
     "slide_type": "fragment"
    }
   },
   "source": [
    "Et on va placer _nombre_ entre les parenthèses :"
   ]
  },
  {
   "cell_type": "code",
   "execution_count": null,
   "id": "97698d4f",
   "metadata": {
    "slideshow": {
     "slide_type": "-"
    }
   },
   "outputs": [],
   "source": [
    "def doubler(nombre):\n",
    "    return nombre * 2"
   ]
  },
  {
   "cell_type": "markdown",
   "id": "71536b3d",
   "metadata": {
    "slideshow": {
     "slide_type": "fragment"
    }
   },
   "source": [
    "Vous remarquez qu'on ne donne plus de valeur à _nombre_. Cette façon de faire indique à la fonction que la valeur de nombre viendra de l'extérieur.\n",
    "\n",
    "_nombre_ est devenu ce qu'on appelle un **paramètre** à la fonction _doubler_. Un **paramètre d'une fonction** est tout simplement une variable dont la valeur vient de l'extérieur."
   ]
  },
  {
   "cell_type": "markdown",
   "id": "d63247f0",
   "metadata": {
    "slideshow": {
     "slide_type": "slide"
    }
   },
   "source": [
    "Et voilà ! Maintenant on peut donner n'importe quelle valeur qu'on souhaite et ça fera le travail sur ce qui nous intéresse :"
   ]
  },
  {
   "cell_type": "code",
   "execution_count": null,
   "id": "02b6d1ae",
   "metadata": {
    "slideshow": {
     "slide_type": "-"
    }
   },
   "outputs": [],
   "source": [
    "print(doubler(27))"
   ]
  },
  {
   "cell_type": "code",
   "execution_count": null,
   "id": "95a31a1d",
   "metadata": {
    "slideshow": {
     "slide_type": "-"
    }
   },
   "outputs": [],
   "source": [
    "mon_nombre_de_chateaux = 5\n",
    "print(doubler(mon_nombre_de_chateaux))"
   ]
  },
  {
   "cell_type": "code",
   "execution_count": null,
   "id": "7d215ff7",
   "metadata": {
    "slideshow": {
     "slide_type": "-"
    }
   },
   "outputs": [],
   "source": [
    "print(doubler(doubler(10)))"
   ]
  },
  {
   "cell_type": "markdown",
   "id": "ce31e735",
   "metadata": {
    "slideshow": {
     "slide_type": "slide"
    }
   },
   "source": [
    "On peut alors faire pareil avec la fonction _majuscule_ définie précédemment :"
   ]
  },
  {
   "cell_type": "code",
   "execution_count": null,
   "id": "f7790d0a",
   "metadata": {
    "slideshow": {
     "slide_type": "-"
    }
   },
   "outputs": [],
   "source": [
    "def majuscule(): # met la première lettre en majuscule\n",
    "    mot = \"le petit poucet\"\n",
    "    mot = mot[0].upper() + mot[1:]"
   ]
  },
  {
   "cell_type": "markdown",
   "id": "760adba6",
   "metadata": {
    "slideshow": {
     "slide_type": "fragment"
    }
   },
   "source": [
    "Qui devient :"
   ]
  },
  {
   "cell_type": "code",
   "execution_count": null,
   "id": "c06e6cfa",
   "metadata": {
    "slideshow": {
     "slide_type": "-"
    }
   },
   "outputs": [],
   "source": [
    "def majuscule(mot): # met la première lettre en majuscule\n",
    "    return mot[0].upper() + mot[1:]"
   ]
  },
  {
   "cell_type": "markdown",
   "id": "ebe6a6da",
   "metadata": {
    "slideshow": {
     "slide_type": "slide"
    }
   },
   "source": [
    "On peut alors l'utiliser de la même manière :"
   ]
  },
  {
   "cell_type": "code",
   "execution_count": null,
   "id": "4eaeb947",
   "metadata": {
    "slideshow": {
     "slide_type": "-"
    }
   },
   "outputs": [],
   "source": [
    "print(majuscule(\"le petit poucet\"))"
   ]
  },
  {
   "cell_type": "code",
   "execution_count": null,
   "id": "3d464c25",
   "metadata": {
    "slideshow": {
     "slide_type": "-"
    }
   },
   "outputs": [],
   "source": [
    "mon_nom_de_famille = \"saussure\"\n",
    "print(majuscule(mon_nom_de_famille))"
   ]
  },
  {
   "cell_type": "markdown",
   "id": "979649be",
   "metadata": {
    "slideshow": {
     "slide_type": "slide"
    }
   },
   "source": [
    "# Paramètres par défaut"
   ]
  },
  {
   "cell_type": "markdown",
   "id": "c7e1ec5d",
   "metadata": {
    "slideshow": {
     "slide_type": "-"
    }
   },
   "source": [
    "Reprenons la fonction majuscule, mais supposons que nous voulions changer une lettre précise :"
   ]
  },
  {
   "cell_type": "code",
   "execution_count": null,
   "id": "25bf82af",
   "metadata": {
    "slideshow": {
     "slide_type": "-"
    }
   },
   "outputs": [],
   "source": [
    "def majuscule(mot, indice):\n",
    "    return mot[:indice] + mot[indice].upper() + mot[indice+1:]"
   ]
  },
  {
   "cell_type": "code",
   "execution_count": null,
   "id": "1f432b16",
   "metadata": {
    "slideshow": {
     "slide_type": "-"
    }
   },
   "outputs": [],
   "source": [
    "print(majuscule(\"le petit poucet\", 0))\n",
    "print(majuscule(\"le petit poucet\", 3))"
   ]
  },
  {
   "cell_type": "markdown",
   "id": "77128a22",
   "metadata": {
    "slideshow": {
     "slide_type": "fragment"
    }
   },
   "source": [
    "On peut alors mettre en majuscule n'importe quelle lettre du mot. On aimerait cependant dire que si on ne mentionne pas l'indice, on met en majuscule la première lettre du mot. Comment faire ?"
   ]
  },
  {
   "cell_type": "markdown",
   "id": "193e854c",
   "metadata": {
    "slideshow": {
     "slide_type": "slide"
    }
   },
   "source": [
    "On peut donner à _indice_ une valeur de _substitution_ si jamais on décide de ne pas la donner. On passe de :"
   ]
  },
  {
   "cell_type": "code",
   "execution_count": null,
   "id": "50a1fd2b",
   "metadata": {},
   "outputs": [],
   "source": [
    "def majuscule(mot, indice):\n",
    "    return mot[:indice] + mot[indice].upper() + mot[indice+1:]"
   ]
  },
  {
   "cell_type": "markdown",
   "id": "fdf359fe",
   "metadata": {},
   "source": [
    "à :"
   ]
  },
  {
   "cell_type": "code",
   "execution_count": null,
   "id": "4efd5f4f",
   "metadata": {},
   "outputs": [],
   "source": [
    "def majuscule(mot, indice=0):\n",
    "    return mot[:indice] + mot[indice].upper() + mot[indice+1:]"
   ]
  },
  {
   "cell_type": "markdown",
   "id": "af2ef534",
   "metadata": {
    "slideshow": {
     "slide_type": "fragment"
    }
   },
   "source": [
    "Et on peut alors écrire :"
   ]
  },
  {
   "cell_type": "code",
   "execution_count": null,
   "id": "803aa08b",
   "metadata": {},
   "outputs": [],
   "source": [
    "majuscule(\"le petit poucet.\")"
   ]
  },
  {
   "cell_type": "markdown",
   "id": "7efa9435",
   "metadata": {},
   "source": [
    "On appelle cette **valeur** du **paramètre** la **valeur par défaut**."
   ]
  }
 ],
 "metadata": {
  "celltoolbar": "Slideshow",
  "kernelspec": {
   "display_name": "Python 3 (ipykernel)",
   "language": "python",
   "name": "python3"
  },
  "language_info": {
   "codemirror_mode": {
    "name": "ipython",
    "version": 3
   },
   "file_extension": ".py",
   "mimetype": "text/x-python",
   "name": "python",
   "nbconvert_exporter": "python",
   "pygments_lexer": "ipython3",
   "version": "3.10.12"
  },
  "livereveal": {
   "autolaunch": true,
   "scroll": true,
   "transition": "none"
  }
 },
 "nbformat": 4,
 "nbformat_minor": 5
}
