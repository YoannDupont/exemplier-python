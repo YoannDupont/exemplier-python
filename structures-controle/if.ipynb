{
 "cells": [
  {
   "cell_type": "markdown",
   "id": "a4c705b1",
   "metadata": {
    "slideshow": {
     "slide_type": "slide"
    }
   },
   "source": [
    "# Exemplier python\n",
    "\n",
    "## Structure conditonnelle : if\n",
    "\n",
    "### Notes\n",
    "\n",
    "- Les valeurs affichées par `print` peuvent également se stocker dans une variable\n",
    "- Pour entrer dans une cellule de code, on appuie sur entrée ou on double-clic dessus.\n",
    "- Pour exécuter une cellule de code, appuyer sur shift+entrée.\n",
    "- Pour passer à la slide suivante, utiliser la touche espace.\n",
    "- Pour passer à la slide précédente, appuyer sur shift+espace."
   ]
  },
  {
   "cell_type": "markdown",
   "id": "6e3407d9",
   "metadata": {
    "slideshow": {
     "slide_type": "slide"
    }
   },
   "source": [
    "# Rappel : Vrai / faux"
   ]
  },
  {
   "cell_type": "markdown",
   "id": "b2cfd999",
   "metadata": {
    "slideshow": {
     "slide_type": "-"
    }
   },
   "source": [
    "Vrai et faux en python sont respectivement _True_ et _False_."
   ]
  },
  {
   "cell_type": "code",
   "execution_count": null,
   "id": "746ffbf7",
   "metadata": {
    "slideshow": {
     "slide_type": "-"
    }
   },
   "outputs": [],
   "source": [
    "print(True)\n",
    "print(False)"
   ]
  },
  {
   "cell_type": "code",
   "execution_count": null,
   "id": "de09dfc2",
   "metadata": {
    "slideshow": {
     "slide_type": "-"
    }
   },
   "outputs": [],
   "source": [
    "print(\"a\" == \"a\")\n",
    "print(\"a\" == \"b\")"
   ]
  },
  {
   "cell_type": "code",
   "execution_count": null,
   "id": "86fca1d5",
   "metadata": {},
   "outputs": [],
   "source": [
    "print((\"a\" == \"a\") == True)\n",
    "print((\"a\" == \"a\") == False)"
   ]
  },
  {
   "cell_type": "code",
   "execution_count": null,
   "id": "24d89a85",
   "metadata": {},
   "outputs": [],
   "source": [
    "print((\"a\" == \"b\") == True)\n",
    "print((\"a\" == \"b\") == False)"
   ]
  },
  {
   "cell_type": "markdown",
   "id": "907104d5",
   "metadata": {
    "slideshow": {
     "slide_type": "slide"
    }
   },
   "source": [
    "# Les conditions : if"
   ]
  },
  {
   "cell_type": "markdown",
   "id": "fbf74d54",
   "metadata": {
    "slideshow": {
     "slide_type": "-"
    }
   },
   "source": [
    "L'idée d'une conditionnelle est de ne lancer du code que si certaines conditions sont remplies.\n",
    "\n",
    "C'est à nous de décider des conditions pour donner une logique au programme."
   ]
  },
  {
   "cell_type": "markdown",
   "id": "9195c5c1",
   "metadata": {
    "slideshow": {
     "slide_type": "subslide"
    }
   },
   "source": [
    "## Avec les valeurs vrai et faux"
   ]
  },
  {
   "cell_type": "code",
   "execution_count": null,
   "id": "b03c1c79",
   "metadata": {
    "slideshow": {
     "slide_type": "-"
    }
   },
   "outputs": [],
   "source": [
    "if True:\n",
    "    print(\"vérifié\")"
   ]
  },
  {
   "cell_type": "code",
   "execution_count": null,
   "id": "40b6ec73",
   "metadata": {
    "slideshow": {
     "slide_type": "-"
    }
   },
   "outputs": [],
   "source": [
    "if False:\n",
    "    print(\"non vérifié\")"
   ]
  },
  {
   "cell_type": "code",
   "execution_count": null,
   "id": "8c0ad498",
   "metadata": {},
   "outputs": [],
   "source": [
    "valeur = True\n",
    "if valeur:\n",
    "    print(\"vérifié\")"
   ]
  },
  {
   "cell_type": "code",
   "execution_count": null,
   "id": "e0328ce4",
   "metadata": {},
   "outputs": [],
   "source": [
    "valeur = False\n",
    "if valeur:\n",
    "    print(\"non vérifié\")"
   ]
  },
  {
   "cell_type": "markdown",
   "id": "0de30d94",
   "metadata": {
    "slideshow": {
     "slide_type": "subslide"
    }
   },
   "source": [
    "## Avec des comparaisons"
   ]
  },
  {
   "cell_type": "code",
   "execution_count": null,
   "id": "aabab9e4",
   "metadata": {
    "slideshow": {
     "slide_type": "-"
    }
   },
   "outputs": [],
   "source": [
    "if \"a\" == \"a\":\n",
    "    print(\"vérifié\")"
   ]
  },
  {
   "cell_type": "code",
   "execution_count": null,
   "id": "b33b4a06",
   "metadata": {
    "slideshow": {
     "slide_type": "-"
    }
   },
   "outputs": [],
   "source": [
    "if \"a\" != \"a\":\n",
    "    print(\"non vérifié\")"
   ]
  },
  {
   "cell_type": "code",
   "execution_count": null,
   "id": "96dcbf21",
   "metadata": {},
   "outputs": [],
   "source": [
    "if \"a\" == \"b\":\n",
    "    print(\"non vérifié\")"
   ]
  },
  {
   "cell_type": "code",
   "execution_count": null,
   "id": "c026029c",
   "metadata": {},
   "outputs": [],
   "source": [
    "if \"a\" != \"b\":\n",
    "    print(\"vérifié\")"
   ]
  },
  {
   "cell_type": "markdown",
   "id": "08ef27e6",
   "metadata": {
    "slideshow": {
     "slide_type": "subslide"
    }
   },
   "source": [
    "La conditionnelle n'empêche pas d'exécuter le reste du code :"
   ]
  },
  {
   "cell_type": "code",
   "execution_count": null,
   "id": "806dd98d",
   "metadata": {
    "slideshow": {
     "slide_type": "-"
    }
   },
   "outputs": [],
   "source": [
    "pommes = 5\n",
    "\n",
    "if pommes >= 3:\n",
    "    print(\"Je peux faire une tarte.\" )\n",
    "\n",
    "print(\"Voilà.\" )"
   ]
  },
  {
   "cell_type": "markdown",
   "id": "984fe14f",
   "metadata": {
    "slideshow": {
     "slide_type": "slide"
    }
   },
   "source": [
    "# Les conditions : if + else"
   ]
  },
  {
   "cell_type": "markdown",
   "id": "beaa2b07",
   "metadata": {
    "slideshow": {
     "slide_type": "-"
    }
   },
   "source": [
    "Quand on veut gérer tous les autres cas du bloc _if_, on utilise _else_.\n",
    "\n",
    "Exécutez les cellules suivantes et modifiez la variable _pomme_ pour voir comment le code réagit :"
   ]
  },
  {
   "cell_type": "code",
   "execution_count": null,
   "id": "c0811c2b",
   "metadata": {
    "slideshow": {
     "slide_type": "-"
    }
   },
   "outputs": [],
   "source": [
    "pommes = 5\n",
    "if pommes >= 3:\n",
    "    print(\"Je peux faire une tarte.\" )\n",
    "print(\"Voilà.\" )"
   ]
  },
  {
   "cell_type": "code",
   "execution_count": null,
   "id": "232fba65",
   "metadata": {
    "slideshow": {
     "slide_type": "-"
    }
   },
   "outputs": [],
   "source": [
    "pommes = 2\n",
    "if pommes >= 3:\n",
    "    print(\"Je peux faire une tarte.\" )\n",
    "else:\n",
    "    print(\"Je ne peux pas faire de tarte.\" )\n",
    "print(\"Voilà.\" )"
   ]
  },
  {
   "cell_type": "code",
   "execution_count": null,
   "id": "2b7f37dc",
   "metadata": {
    "slideshow": {
     "slide_type": "-"
    }
   },
   "outputs": [],
   "source": [
    "lettre = \"A\"\n",
    "if lettre == \"a\":\n",
    "    print('la variable lettre vaut bien la valeur \"a\"')\n",
    "else:\n",
    "    print('la variable lettre a une autre valeur que \"a\"')"
   ]
  },
  {
   "cell_type": "markdown",
   "id": "6cc59035",
   "metadata": {
    "slideshow": {
     "slide_type": "slide"
    }
   },
   "source": [
    "# Les conditions : if + elif + else"
   ]
  },
  {
   "cell_type": "markdown",
   "id": "ea1cd072",
   "metadata": {
    "slideshow": {
     "slide_type": "-"
    }
   },
   "source": [
    "On peut rajouter des tests entre _if_ et _else_ avec _elif_.\n",
    "\n",
    "Chaque elif élimine les possibilités déjà vues avant :"
   ]
  },
  {
   "cell_type": "code",
   "execution_count": null,
   "id": "a68777ff",
   "metadata": {
    "slideshow": {
     "slide_type": "-"
    }
   },
   "outputs": [],
   "source": [
    "pommes = 5\n",
    "if pommes >= 3:\n",
    "    print(\"Je peux faire une tarte.\" )\n",
    "elif pommes < 0:\n",
    "    print(\"Je suis endetté(e) des pommes !\" )\n",
    "elif pommes == 0:\n",
    "    print(\"Je n’ai plus une seule pomme !\" )\n",
    "else: # pommes compris entre 1 et 2\n",
    "    print(\"Il me manque des pommes pour faire une tarte.\" )\n",
    "print(\"Voilà.\" )"
   ]
  },
  {
   "cell_type": "markdown",
   "id": "4409d4d3",
   "metadata": {
    "slideshow": {
     "slide_type": "subslide"
    }
   },
   "source": [
    "On peut rajouter autant de _elif_ qu'on le souhaite.\n",
    "\n",
    "Chaque elif élimine les possibilités déjà vues avant :"
   ]
  },
  {
   "cell_type": "code",
   "execution_count": null,
   "id": "df5a16b5",
   "metadata": {
    "slideshow": {
     "slide_type": "-"
    }
   },
   "outputs": [],
   "source": [
    "pommes = 5\n",
    "if pommes >= 3:\n",
    "    print(\"Je peux faire une tarte.\" )\n",
    "elif pommes < 0:\n",
    "    print(\"Je suis endetté(e) des pommes !\" )\n",
    "elif pommes == 0:\n",
    "    print(\"Je n’ai plus une seule pomme !\" )\n",
    "else: # pommes compris entre 1 et 2\n",
    "    print(\"Il me manque des pommes pour faire une tarte.\" )\n",
    "print(\"Voilà.\" )"
   ]
  },
  {
   "cell_type": "markdown",
   "id": "1a1a84b4",
   "metadata": {
    "slideshow": {
     "slide_type": "subslide"
    }
   },
   "source": [
    "Quand on a un bloc de _if_ _elif_ _else_, on n'exécute que la première branche qui est vérifiée. Testez différentes valeurs pour la variable _pommes_ :"
   ]
  },
  {
   "cell_type": "code",
   "execution_count": null,
   "id": "c65cd4e1",
   "metadata": {
    "slideshow": {
     "slide_type": "-"
    }
   },
   "outputs": [],
   "source": [
    "pommes = 5\n",
    "\n",
    "if pommes <= 10:\n",
    "    print(\"J'ai au plus 10 pommes.\" )\n",
    "elif pommes <= 5:\n",
    "    print(\"J'ai au plus 5 pommes.\" )\n",
    "elif pommes == 0:\n",
    "    print(\"Je n’ai plus une seule pomme !\" )\n",
    "else:\n",
    "    print(\"Je suis endetté.\" )\n",
    "\n",
    "print(\"Voilà.\" )"
   ]
  }
 ],
 "metadata": {
  "celltoolbar": "Slideshow",
  "kernelspec": {
   "display_name": "Python 3 (ipykernel)",
   "language": "python",
   "name": "python3"
  },
  "language_info": {
   "codemirror_mode": {
    "name": "ipython",
    "version": 3
   },
   "file_extension": ".py",
   "mimetype": "text/x-python",
   "name": "python",
   "nbconvert_exporter": "python",
   "pygments_lexer": "ipython3",
   "version": "3.10.6"
  },
  "livereveal": {
   "autolaunch": true,
   "scroll": true,
   "transition": "none"
  }
 },
 "nbformat": 4,
 "nbformat_minor": 5
}
