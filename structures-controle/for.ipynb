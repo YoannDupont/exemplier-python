{
 "cells": [
  {
   "cell_type": "markdown",
   "id": "a4c705b1",
   "metadata": {
    "slideshow": {
     "slide_type": "slide"
    }
   },
   "source": [
    "# Exemplier python\n",
    "\n",
    "## La boucle \"pour\" : for\n",
    "\n",
    "### Notes\n",
    "\n",
    "- Les valeurs affichées par `print` peuvent également se stocker dans une variable\n",
    "- Pour entrer dans une cellule de code, on appuie sur entrée ou on double-clic dessus.\n",
    "- Pour exécuter une cellule de code, appuyer sur shift+entrée.\n",
    "- Pour passer à la slide suivante, utiliser la touche espace.\n",
    "- Pour passer à la slide précédente, appuyer sur shift+espace."
   ]
  },
  {
   "cell_type": "markdown",
   "id": "6394cbfd",
   "metadata": {
    "slideshow": {
     "slide_type": "slide"
    }
   },
   "source": [
    "# Présentation"
   ]
  },
  {
   "cell_type": "markdown",
   "id": "c1b3575e",
   "metadata": {},
   "source": [
    "Une boucle `for` (pour) permet de parcourir un _itérable_, sur lequel on va donc _itérer_ du code.\n",
    "- _itérable_ = type dont on peut récupérer les éléments un à un.\n",
    "- itérer = répéter la même portion de code (surtout avec une boucle)\n",
    "- une itération = une répétition (on parle aussi de \"tour de boucle\")\n",
    "\n",
    "Voyons des exemples."
   ]
  },
  {
   "cell_type": "markdown",
   "id": "6c324841",
   "metadata": {
    "slideshow": {
     "slide_type": "slide"
    }
   },
   "source": [
    "## Exemples"
   ]
  },
  {
   "cell_type": "code",
   "execution_count": null,
   "id": "69df1071",
   "metadata": {
    "slideshow": {
     "slide_type": "-"
    }
   },
   "outputs": [],
   "source": [
    "# parcourir une chaîne caractère par caractère\n",
    "for lettre in \"bonjour\":\n",
    "    print(lettre)"
   ]
  },
  {
   "cell_type": "code",
   "execution_count": null,
   "id": "45e7d059",
   "metadata": {
    "slideshow": {
     "slide_type": "-"
    }
   },
   "outputs": [],
   "source": [
    "# parcourir une liste élément par élément\n",
    "for element in [1, \"a\", 3.0]:\n",
    "    print(element)"
   ]
  },
  {
   "cell_type": "code",
   "execution_count": null,
   "id": "4ba6d38a",
   "metadata": {
    "slideshow": {
     "slide_type": "-"
    }
   },
   "outputs": [],
   "source": [
    "# pour générer une suite de nombre : la fonction range\n",
    "for mon_nombre in range(10):\n",
    "    print(mon_nombre)"
   ]
  },
  {
   "cell_type": "markdown",
   "id": "808ba2f2",
   "metadata": {
    "slideshow": {
     "slide_type": "slide"
    }
   },
   "source": [
    "## bien penser au `:`\n",
    "\n",
    "Sans le `:`, la syntaxe est invalide et python rejette le code :"
   ]
  },
  {
   "cell_type": "code",
   "execution_count": null,
   "id": "c0409bbc",
   "metadata": {},
   "outputs": [],
   "source": [
    "for item in [1, \"a\", 3.0]\n",
    "    print(item)"
   ]
  },
  {
   "cell_type": "markdown",
   "id": "0ff4ea70",
   "metadata": {},
   "source": [
    "Python nous montre l'erreur et l'explique : à la ligne du for, à la position indiquée par `^`, il manque un `:`."
   ]
  },
  {
   "cell_type": "markdown",
   "id": "f356fe2d",
   "metadata": {
    "slideshow": {
     "slide_type": "fragment"
    }
   },
   "source": [
    "Si on l'écoute et qu'on rajoute ce fameux `:`, cela donne une boucle syntaxiquement correcte :"
   ]
  },
  {
   "cell_type": "code",
   "execution_count": null,
   "id": "ba1e2862",
   "metadata": {},
   "outputs": [],
   "source": [
    "for item in [1, \"a\", 3.0]:\n",
    "    print(item)"
   ]
  },
  {
   "cell_type": "markdown",
   "id": "7373bd27",
   "metadata": {
    "slideshow": {
     "slide_type": "slide"
    }
   },
   "source": [
    "# Usage"
   ]
  },
  {
   "cell_type": "markdown",
   "id": "b4c543a1",
   "metadata": {},
   "source": [
    "La syntaxe `for X in Y:` en quelques points :\n",
    "- `X` est le nom (de notre choix) qu'on va utiliser pour désigner l'élément courant => une _variable_.\n",
    "- `Y` est la valeur sur laquelle on itère => valeur \"brute\" ou variable\n",
    "- bien penser au `:`, le marqueur de bloc en python\n",
    "\n",
    "Quelques exemples..."
   ]
  },
  {
   "cell_type": "markdown",
   "id": "785e73a4",
   "metadata": {
    "slideshow": {
     "slide_type": "slide"
    }
   },
   "source": [
    "## La variable d'élément (X)\n",
    "\n",
    "Permet de se représenter l'élément sur lequel nous sommes actuellement. C'est à nous de lui donner un nom."
   ]
  },
  {
   "cell_type": "code",
   "execution_count": null,
   "id": "ece5331e",
   "metadata": {},
   "outputs": [],
   "source": [
    "for caractere in \"salut\":\n",
    "    print(caractere)"
   ]
  },
  {
   "cell_type": "code",
   "execution_count": null,
   "id": "fc07c90b",
   "metadata": {},
   "outputs": [],
   "source": [
    "for X in \"salut\":\n",
    "    print(X)"
   ]
  },
  {
   "cell_type": "markdown",
   "id": "88020d05",
   "metadata": {
    "slideshow": {
     "slide_type": "slide"
    }
   },
   "source": [
    "## L'itérable (Y)"
   ]
  },
  {
   "cell_type": "markdown",
   "id": "81c109e5",
   "metadata": {},
   "source": [
    "Peut être une valeur \"brute\" ou une variable."
   ]
  },
  {
   "cell_type": "code",
   "execution_count": null,
   "id": "c322fad9",
   "metadata": {},
   "outputs": [],
   "source": [
    "for char in \"hello\":\n",
    "    print(char)"
   ]
  },
  {
   "cell_type": "code",
   "execution_count": null,
   "id": "528a3442",
   "metadata": {},
   "outputs": [],
   "source": [
    "message = \"hello\"\n",
    "for char in message:\n",
    "    print(char)"
   ]
  },
  {
   "cell_type": "code",
   "execution_count": null,
   "id": "139d192b",
   "metadata": {},
   "outputs": [],
   "source": [
    "def hello_you():\n",
    "    return \"hello\"\n",
    "\n",
    "for c in hello_you():\n",
    "    print(c)"
   ]
  },
  {
   "cell_type": "markdown",
   "id": "d763c8b7",
   "metadata": {
    "slideshow": {
     "slide_type": "slide"
    }
   },
   "source": [
    "Comme on l'a dit, un *itérable* est un type dont on peut récupérer les éléments un à un.\n",
    "\n",
    "Tout n'est pas itérable. Par exemple, un nombre ne peut représenter qu'une valeur, on ne peut pas itérer dessus.\n",
    "\n",
    "Si vous tentez d'exécuter la cellule suivante, python affichera une erreur :"
   ]
  },
  {
   "cell_type": "code",
   "execution_count": null,
   "id": "7d8b0174",
   "metadata": {},
   "outputs": [],
   "source": [
    "for reponse_a_la_vie in 42:\n",
    "    print(reponse_a_la_vie)"
   ]
  },
  {
   "cell_type": "markdown",
   "id": "3bb18cb6",
   "metadata": {
    "slideshow": {
     "slide_type": "fragment"
    }
   },
   "source": [
    "L'erreur donnée ici est `TypeError` car un entier n'est pas un *itérable*. Les messages d'erreurs sont importants à lire car ils donnent des indications sur l'erreur (et donc comment la corriger)."
   ]
  },
  {
   "cell_type": "markdown",
   "id": "d174f1d3",
   "metadata": {
    "slideshow": {
     "slide_type": "slide"
    }
   },
   "source": [
    "# break et continue"
   ]
  },
  {
   "cell_type": "markdown",
   "id": "9e792e97",
   "metadata": {},
   "source": [
    "`break` et `continue` sont des instructions qui permettent de changer plus ou moins brutalement le flux normal d’une boucle :\n",
    "- `break` = sortir immédiatement de la boucle\n",
    "- `continue` = passer directement à l’itération suivante"
   ]
  },
  {
   "cell_type": "code",
   "execution_count": null,
   "id": "1f5903cc",
   "metadata": {
    "slideshow": {
     "slide_type": "fragment"
    }
   },
   "outputs": [],
   "source": [
    "for nombre in range(1, 11): # les nombres de 1 à 10\n",
    "    if nombre % 2 == 0:\n",
    "        break\n",
    "    print(nombre)"
   ]
  },
  {
   "cell_type": "code",
   "execution_count": null,
   "id": "0614e83e",
   "metadata": {
    "slideshow": {
     "slide_type": "fragment"
    }
   },
   "outputs": [],
   "source": [
    "for nombre in range(10): # les nombres de 1 à 10\n",
    "    if nombre % 2 == 0:\n",
    "        continue\n",
    "    print(nombre)"
   ]
  }
 ],
 "metadata": {
  "celltoolbar": "Slideshow",
  "kernelspec": {
   "display_name": "Python 3 (ipykernel)",
   "language": "python",
   "name": "python3"
  },
  "language_info": {
   "codemirror_mode": {
    "name": "ipython",
    "version": 3
   },
   "file_extension": ".py",
   "mimetype": "text/x-python",
   "name": "python",
   "nbconvert_exporter": "python",
   "pygments_lexer": "ipython3",
   "version": "3.10.12"
  },
  "livereveal": {
   "autolaunch": true,
   "scroll": true,
   "transition": "none"
  },
  "rise": {
   "scroll": true
  }
 },
 "nbformat": 4,
 "nbformat_minor": 5
}
